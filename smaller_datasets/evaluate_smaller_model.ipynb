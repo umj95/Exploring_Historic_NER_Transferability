{
  "cells": [
    {
      "cell_type": "code",
      "source": [
        "from google.colab import drive\n",
        "drive.mount('/content/drive')"
      ],
      "metadata": {
        "colab": {
          "base_uri": "https://localhost:8080/"
        },
        "id": "k-37JKjnDM8I",
        "outputId": "60f7aa01-9e8d-43a1-b55a-9d3d91141daf"
      },
      "execution_count": null,
      "outputs": [
        {
          "output_type": "stream",
          "name": "stdout",
          "text": [
            "Mounted at /content/drive\n"
          ]
        }
      ]
    },
    {
      "cell_type": "code",
      "source": [
        "import sys\n",
        "import os\n",
        "\n",
        "path = \"/content/drive/MyDrive/NLP_Project_New\"\n",
        "sys.path.append(os.path.abspath(path))"
      ],
      "metadata": {
        "id": "19hMaehfDPIp"
      },
      "execution_count": null,
      "outputs": []
    },
    {
      "cell_type": "code",
      "execution_count": null,
      "metadata": {
        "id": "5rer2iR5WDMN"
      },
      "outputs": [],
      "source": [
        "import pandas as pd\n",
        "from datetime import datetime\n",
        "import os.path\n",
        "\n",
        "import logging\n",
        "\n",
        "logfile = f\"{path}/logs/evaluate_model.log\"\n",
        "formatter = logging.Formatter('%(asctime)s - %(name)s - %(levelname)s - %(message)s')\n",
        "\n",
        "file_handler = logging.FileHandler(logfile)\n",
        "file_handler.setFormatter(formatter)\n",
        "file_handler.setLevel(logging.INFO)\n",
        "\n",
        "stream_handler = logging.StreamHandler()\n",
        "stream_handler.setFormatter(formatter)\n",
        "stream_handler.setLevel(logging.INFO)\n",
        "\n",
        "logger = logging.getLogger(\"evaluate_model.log\")\n",
        "logger.setLevel(logging.INFO)\n",
        "\n",
        "logger.addHandler(file_handler)\n",
        "logger.addHandler(stream_handler)"
      ]
    },
    {
      "cell_type": "code",
      "execution_count": null,
      "metadata": {
        "id": "sY2nK1sqWDMR"
      },
      "outputs": [],
      "source": [
        "def helper(x: str) -> str:\n",
        "    if x == \"B-PER\":\n",
        "        return 1\n",
        "    elif x == \"I-PER\":\n",
        "        return 2\n",
        "    elif x == \"B-LOC\":\n",
        "        return 3\n",
        "    elif x == \"I-LOC\":\n",
        "        return 4\n",
        "    else:\n",
        "        return 0"
      ]
    },
    {
      "cell_type": "code",
      "execution_count": null,
      "metadata": {
        "colab": {
          "base_uri": "https://localhost:8080/"
        },
        "id": "dG_ZhrQbWDMP",
        "outputId": "d3ecc44b-2f5c-41b7-a02c-84c460fe883f"
      },
      "outputs": [
        {
          "output_type": "stream",
          "name": "stderr",
          "text": [
            "2024-03-27 18:30:02,659 - evaluate_model.log - INFO - Initialised model evaluation. Predictions table loaded from location /content/drive/MyDrive/NLP_Project_New/model_comparisons/smaller_test-predictions_comparison_new.tsv\n",
            "INFO:evaluate_model.log:Initialised model evaluation. Predictions table loaded from location /content/drive/MyDrive/NLP_Project_New/model_comparisons/smaller_test-predictions_comparison_new.tsv\n"
          ]
        }
      ],
      "source": [
        "# get current date and time\n",
        "now = datetime.now()\n",
        "timestamp = now.strftime(\"%m-%d-%H-%M-%S\")\n",
        "test_pred_path = f'{path}/model_comparisons/smaller_test-predictions_comparison_new.tsv'\n",
        "\n",
        "df = pd.read_csv(test_pred_path, sep=\"\\t\")\n",
        "\n",
        "logger.info(f\"Initialised model evaluation. Predictions table loaded from location {test_pred_path}\")\n"
      ]
    },
    {
      "cell_type": "code",
      "execution_count": null,
      "metadata": {
        "colab": {
          "base_uri": "https://localhost:8080/"
        },
        "id": "SyWXAt3iWDMQ",
        "outputId": "c1a7e3f3-5057-48d5-ecfd-e86832be73e2"
      },
      "outputs": [
        {
          "output_type": "stream",
          "name": "stdout",
          "text": [
            "The available attempts are:\n",
            "\n",
            "Name: /content/drive/MyDrive/NLP_Project_New/models/bert_finetuned_2_part--03-27-17-33-57\t(Model: /content/drive/MyDrive/NLP_Project_New/models/bert_finetuned_2_part, Date: 03-27-17-33-57)\n",
            "Name: /content/drive/MyDrive/NLP_Project_New/models/bert_finetuned_4_part--03-27-17-33-57\t(Model: /content/drive/MyDrive/NLP_Project_New/models/bert_finetuned_4_part, Date: 03-27-17-33-57)\n",
            "Name: /content/drive/MyDrive/NLP_Project_New/models/bert_finetuned_8_part--03-27-17-33-57\t(Model: /content/drive/MyDrive/NLP_Project_New/models/bert_finetuned_8_part, Date: 03-27-17-33-57)\n",
            "Name: /content/drive/MyDrive/NLP_Project_New/models/bert_finetuned_16_part--03-27-17-33-57\t(Model: /content/drive/MyDrive/NLP_Project_New/models/bert_finetuned_16_part, Date: 03-27-17-33-57)\n",
            "Name: /content/drive/MyDrive/NLP_Project_New/models/bert_finetuned_32_part--03-27-17-33-57\t(Model: /content/drive/MyDrive/NLP_Project_New/models/bert_finetuned_32_part, Date: 03-27-17-33-57)\n",
            "Name: /content/drive/MyDrive/NLP_Project_New/models/bert_finetuned_64_part--03-27-17-33-57\t(Model: /content/drive/MyDrive/NLP_Project_New/models/bert_finetuned_64_part, Date: 03-27-17-33-57)\n"
          ]
        }
      ],
      "source": [
        "# get overview over possible attempts:\n",
        "print(\"The available attempts are:\\n\")\n",
        "for col in df.columns[2:]:\n",
        "    model_i = col[:-16]\n",
        "    date_i = col[-14:]\n",
        "    print(f\"Name: {col}\\t(Model: {model_i}, Date: {date_i})\")"
      ]
    },
    {
      "cell_type": "code",
      "execution_count": null,
      "metadata": {
        "colab": {
          "base_uri": "https://localhost:8080/"
        },
        "id": "e_CO-SNOWDMQ",
        "outputId": "5a83f586-3389-4cc2-8e5f-1d940e845484"
      },
      "outputs": [
        {
          "name": "stdout",
          "output_type": "stream",
          "text": [
            "Please enter the name of the attempt you want to evaluate./content/drive/MyDrive/NLP_Project_New/models/bert_finetuned_64_part--03-27-17-33-57\n"
          ]
        },
        {
          "output_type": "stream",
          "name": "stderr",
          "text": [
            "2024-03-27 18:38:49,000 - evaluate_model.log - INFO - Chosen attempt to evaluate: /content/drive/MyDrive/NLP_Project_New/models/bert_finetuned_64_part--03-27-17-33-57\n",
            "INFO:evaluate_model.log:Chosen attempt to evaluate: /content/drive/MyDrive/NLP_Project_New/models/bert_finetuned_64_part--03-27-17-33-57\n"
          ]
        }
      ],
      "source": [
        "# which attempt do we want to evaluate?\n",
        "attempt = input(\"Please enter the name of the attempt you want to evaluate.\")\n",
        "if attempt in df.columns[2:]:\n",
        "    logger.info(f\"Chosen attempt to evaluate: {attempt}\")\n",
        "else:\n",
        "    logger.error(f\"The chosen attempt name ({attempt}) does not match the attempts in the prediciton s table!\")\n",
        "    raise Exception(\"The attempt entered does not match the attempts in the predictions table!\")"
      ]
    },
    {
      "cell_type": "code",
      "execution_count": null,
      "metadata": {
        "colab": {
          "base_uri": "https://localhost:8080/"
        },
        "id": "1tRak27xWDMS",
        "outputId": "b22d5dd3-0e28-4969-d749-0f656fde79c7"
      },
      "outputs": [
        {
          "output_type": "stream",
          "name": "stderr",
          "text": [
            "<ipython-input-41-20573ffc6b21>:2: SettingWithCopyWarning: \n",
            "A value is trying to be set on a copy of a slice from a DataFrame.\n",
            "Try using .loc[row_indexer,col_indexer] = value instead\n",
            "\n",
            "See the caveats in the documentation: https://pandas.pydata.org/pandas-docs/stable/user_guide/indexing.html#returning-a-view-versus-a-copy\n",
            "  df_numeric.loc[:,\"NER\"] = df_numeric[\"NER\"].apply(helper)\n",
            "<ipython-input-41-20573ffc6b21>:2: DeprecationWarning: In a future version, `df.iloc[:, i] = newvals` will attempt to set the values inplace instead of always setting a new array. To retain the old behavior, use either `df[df.columns[i]] = newvals` or, if columns are non-unique, `df.isetitem(i, newvals)`\n",
            "  df_numeric.loc[:,\"NER\"] = df_numeric[\"NER\"].apply(helper)\n",
            "<ipython-input-41-20573ffc6b21>:3: SettingWithCopyWarning: \n",
            "A value is trying to be set on a copy of a slice from a DataFrame.\n",
            "Try using .loc[row_indexer,col_indexer] = value instead\n",
            "\n",
            "See the caveats in the documentation: https://pandas.pydata.org/pandas-docs/stable/user_guide/indexing.html#returning-a-view-versus-a-copy\n",
            "  df_numeric.loc[:,attempt] = df_numeric[attempt].apply(helper)\n",
            "<ipython-input-41-20573ffc6b21>:3: DeprecationWarning: In a future version, `df.iloc[:, i] = newvals` will attempt to set the values inplace instead of always setting a new array. To retain the old behavior, use either `df[df.columns[i]] = newvals` or, if columns are non-unique, `df.isetitem(i, newvals)`\n",
            "  df_numeric.loc[:,attempt] = df_numeric[attempt].apply(helper)\n"
          ]
        }
      ],
      "source": [
        "df_numeric = df[[\"NER\", attempt]]\n",
        "df_numeric.loc[:,\"NER\"] = df_numeric[\"NER\"].apply(helper)\n",
        "df_numeric.loc[:,attempt] = df_numeric[attempt].apply(helper)"
      ]
    },
    {
      "cell_type": "code",
      "execution_count": null,
      "metadata": {
        "colab": {
          "base_uri": "https://localhost:8080/"
        },
        "id": "qIcPv_PcWDMS",
        "outputId": "091ea0a3-d1bd-4de0-a1b9-3fd894a12781"
      },
      "outputs": [
        {
          "output_type": "stream",
          "name": "stderr",
          "text": [
            "2024-03-27 18:39:03,379 - evaluate_model.log - INFO - EVALUATION RESULTS:\n",
            "Precision:\t\t0.011811023622047244\n",
            "Recall:\t\t\t0.00293733681462141\n",
            "Accuracy:\t\t0.9766249869559079\n",
            "F1-score:\t\t0.004704652378463146\n",
            "\n",
            "INFO:evaluate_model.log:EVALUATION RESULTS:\n",
            "Precision:\t\t0.011811023622047244\n",
            "Recall:\t\t\t0.00293733681462141\n",
            "Accuracy:\t\t0.9766249869559079\n",
            "F1-score:\t\t0.004704652378463146\n",
            "\n"
          ]
        },
        {
          "output_type": "stream",
          "name": "stdout",
          "text": [
            "True Positives: 9, False Positives: 753, True Negatives: 159092, False Negatives: 3055\n",
            "True Positives:\t\t9\n",
            "True Negatives:\t\t159092\n",
            "False Positives:\t753\n",
            "False Negatives:\t3055\n",
            "\n",
            "Correct predictions:\t159101\n",
            "False predictions:\t3808\n",
            "All predictions:\t162909\n",
            "\n",
            "Therefore accuracy:\t159101 ÷ 162909 = 0.9766249869559079\n",
            "\n"
          ]
        }
      ],
      "source": [
        "false_positives = 0\n",
        "false_negatives = 0\n",
        "true_positives = 0\n",
        "true_negatives = 0\n",
        "\n",
        "for index, row in df_numeric.iterrows():\n",
        "    a = row['NER']\n",
        "    b = row[attempt]\n",
        "\n",
        "    if a < b:\n",
        "        false_positives += 1\n",
        "    elif a > b:\n",
        "        false_negatives += 1\n",
        "    elif (a == b) and (a > 0):\n",
        "        true_positives += 1\n",
        "    else:\n",
        "        true_negatives += 1\n",
        "\n",
        "print(f\"True Positives: {true_positives}, False Positives: {false_positives}, True Negatives: {true_negatives}, False Negatives: {false_negatives}\")\n",
        "\n",
        "correct_predictions = true_positives + true_negatives\n",
        "false_predictions = false_positives + false_negatives\n",
        "all_predictions = correct_predictions + false_predictions\n",
        "\n",
        "precision = true_positives / (true_positives + false_positives)\n",
        "recall = true_positives / (true_positives + false_negatives)\n",
        "accuracy = (true_positives + true_negatives) / (true_positives + true_negatives + false_positives + false_negatives)\n",
        "f1 = (2 * precision * recall) / (precision + recall)\n",
        "\n",
        "print(f\"True Positives:\\t\\t{true_positives}\\nTrue Negatives:\\t\\t{true_negatives}\\nFalse Positives:\\t{false_positives}\\nFalse Negatives:\\t{false_negatives}\\n\")\n",
        "print(f\"Correct predictions:\\t{correct_predictions}\\nFalse predictions:\\t{false_predictions}\\nAll predictions:\\t{all_predictions}\\n\")\n",
        "print(f\"Therefore accuracy:\\t{correct_predictions} ÷ {all_predictions} = {correct_predictions / all_predictions}\\n\")\n",
        "\n",
        "logger.info(f\"EVALUATION RESULTS:\\nPrecision:\\t\\t{precision}\\nRecall:\\t\\t\\t{recall}\\nAccuracy:\\t\\t{accuracy}\\nF1-score:\\t\\t{f1}\\n\")"
      ]
    },
    {
      "cell_type": "code",
      "execution_count": null,
      "metadata": {
        "colab": {
          "base_uri": "https://localhost:8080/"
        },
        "id": "rQayXN-_WDMT",
        "outputId": "964c5157-37f2-4d67-977a-adf21b8c0773"
      },
      "outputs": [
        {
          "name": "stdout",
          "output_type": "stream",
          "text": [
            "Add comments about this attempt here.bert model fine tuned on 1/64 of training data\n"
          ]
        }
      ],
      "source": [
        "# maybe add some commentary about the attempt\n",
        "comments = input(\"Add comments about this attempt here.\")"
      ]
    },
    {
      "cell_type": "code",
      "execution_count": null,
      "metadata": {
        "id": "5z5YrvaeWDMT"
      },
      "outputs": [],
      "source": [
        "eval_results = {'attempt': attempt,\n",
        "                'time': timestamp,\n",
        "                'model_name': attempt[:-16],\n",
        "                'precision': precision,\n",
        "                'recall': recall,\n",
        "                'accuracy': accuracy,\n",
        "                'F1-score': f1,\n",
        "                'comments': comments}"
      ]
    },
    {
      "cell_type": "code",
      "execution_count": null,
      "metadata": {
        "colab": {
          "base_uri": "https://localhost:8080/"
        },
        "id": "XrfFcT2bWDMU",
        "outputId": "68ac14b0-4fca-460f-dc5e-acb10b360b8f"
      },
      "outputs": [
        {
          "output_type": "stream",
          "name": "stderr",
          "text": [
            "<ipython-input-45-55444298b033>:5: FutureWarning: The frame.append method is deprecated and will be removed from pandas in a future version. Use pandas.concat instead.\n",
            "  model_comp_df = model_comp_df.append(eval_results, ignore_index=True)\n",
            "2024-03-27 18:39:29,045 - evaluate_model.log - INFO - Appended evaluation results to table at location /content/drive/MyDrive/NLP_Project_New/model_comparisons/smaller_model_results_new.csv.\n",
            "INFO:evaluate_model.log:Appended evaluation results to table at location /content/drive/MyDrive/NLP_Project_New/model_comparisons/smaller_model_results_new.csv.\n"
          ]
        }
      ],
      "source": [
        "savepath = f'{path}/model_comparisons/smaller_model_results_new.csv'\n",
        "\n",
        "if os.path.isfile(savepath):\n",
        "    model_comp_df = pd.read_csv(savepath)\n",
        "    model_comp_df = model_comp_df.append(eval_results, ignore_index=True)\n",
        "    model_comp_df.to_csv(savepath, index=False)\n",
        "    logger.info(f\"Appended evaluation results to table at location {savepath}.\")\n",
        "else:\n",
        "    model_comp_df = pd.DataFrame(columns = ['attempt', 'time', 'model_name', 'precision', 'recall', 'accuracy', 'F1-score', 'comments'])\n",
        "    model_comp_df = model_comp_df.append(eval_results, ignore_index=True)\n",
        "    model_comp_df.to_csv(savepath, index=False)\n",
        "    logger.info(f\"Couldn't find a table for evaluation results, so I created one at location {savepath}\")"
      ]
    },
    {
      "cell_type": "code",
      "execution_count": null,
      "metadata": {
        "colab": {
          "base_uri": "https://localhost:8080/",
          "height": 206
        },
        "id": "uGKuIv4IWDMV",
        "outputId": "80eb8d5c-8246-409e-d655-b6c20d6d633c"
      },
      "outputs": [
        {
          "output_type": "execute_result",
          "data": {
            "text/plain": [
              "                                             attempt            time  \\\n",
              "0  /content/drive/MyDrive/NLP_Project_New/models/...  03-27-18-30-01   \n",
              "1  /content/drive/MyDrive/NLP_Project_New/models/...  03-27-18-30-01   \n",
              "2  /content/drive/MyDrive/NLP_Project_New/models/...  03-27-18-30-01   \n",
              "3  /content/drive/MyDrive/NLP_Project_New/models/...  03-27-18-30-01   \n",
              "4  /content/drive/MyDrive/NLP_Project_New/models/...  03-27-18-30-01   \n",
              "\n",
              "                                          model_name  precision    recall  \\\n",
              "0  /content/drive/MyDrive/NLP_Project_New/models/...   0.773138  0.592739   \n",
              "1  /content/drive/MyDrive/NLP_Project_New/models/...   0.765071  0.568511   \n",
              "2  /content/drive/MyDrive/NLP_Project_New/models/...   0.780526  0.497374   \n",
              "3  /content/drive/MyDrive/NLP_Project_New/models/...   0.603212  0.427376   \n",
              "4  /content/drive/MyDrive/NLP_Project_New/models/...   0.011811  0.002937   \n",
              "\n",
              "   accuracy  F1-score                                         comments  \n",
              "0  0.989190  0.671026  bert model fine tuned on half the training data  \n",
              "1  0.988705  0.652305   bert model fine tuned on 1/4 the training data  \n",
              "2  0.987987  0.607580   bert model fine tuned on 1/8 the training data  \n",
              "3  0.984341  0.500294   bert model fine tuned on 1/16 of training data  \n",
              "4  0.976625  0.004705   bert model fine tuned on 1/64 of training data  "
            ],
            "text/html": [
              "\n",
              "  <div id=\"df-d8b4c580-4da1-4b65-9cf6-db0b6dafdfbe\" class=\"colab-df-container\">\n",
              "    <div>\n",
              "<style scoped>\n",
              "    .dataframe tbody tr th:only-of-type {\n",
              "        vertical-align: middle;\n",
              "    }\n",
              "\n",
              "    .dataframe tbody tr th {\n",
              "        vertical-align: top;\n",
              "    }\n",
              "\n",
              "    .dataframe thead th {\n",
              "        text-align: right;\n",
              "    }\n",
              "</style>\n",
              "<table border=\"1\" class=\"dataframe\">\n",
              "  <thead>\n",
              "    <tr style=\"text-align: right;\">\n",
              "      <th></th>\n",
              "      <th>attempt</th>\n",
              "      <th>time</th>\n",
              "      <th>model_name</th>\n",
              "      <th>precision</th>\n",
              "      <th>recall</th>\n",
              "      <th>accuracy</th>\n",
              "      <th>F1-score</th>\n",
              "      <th>comments</th>\n",
              "    </tr>\n",
              "  </thead>\n",
              "  <tbody>\n",
              "    <tr>\n",
              "      <th>0</th>\n",
              "      <td>/content/drive/MyDrive/NLP_Project_New/models/...</td>\n",
              "      <td>03-27-18-30-01</td>\n",
              "      <td>/content/drive/MyDrive/NLP_Project_New/models/...</td>\n",
              "      <td>0.773138</td>\n",
              "      <td>0.592739</td>\n",
              "      <td>0.989190</td>\n",
              "      <td>0.671026</td>\n",
              "      <td>bert model fine tuned on half the training data</td>\n",
              "    </tr>\n",
              "    <tr>\n",
              "      <th>1</th>\n",
              "      <td>/content/drive/MyDrive/NLP_Project_New/models/...</td>\n",
              "      <td>03-27-18-30-01</td>\n",
              "      <td>/content/drive/MyDrive/NLP_Project_New/models/...</td>\n",
              "      <td>0.765071</td>\n",
              "      <td>0.568511</td>\n",
              "      <td>0.988705</td>\n",
              "      <td>0.652305</td>\n",
              "      <td>bert model fine tuned on 1/4 the training data</td>\n",
              "    </tr>\n",
              "    <tr>\n",
              "      <th>2</th>\n",
              "      <td>/content/drive/MyDrive/NLP_Project_New/models/...</td>\n",
              "      <td>03-27-18-30-01</td>\n",
              "      <td>/content/drive/MyDrive/NLP_Project_New/models/...</td>\n",
              "      <td>0.780526</td>\n",
              "      <td>0.497374</td>\n",
              "      <td>0.987987</td>\n",
              "      <td>0.607580</td>\n",
              "      <td>bert model fine tuned on 1/8 the training data</td>\n",
              "    </tr>\n",
              "    <tr>\n",
              "      <th>3</th>\n",
              "      <td>/content/drive/MyDrive/NLP_Project_New/models/...</td>\n",
              "      <td>03-27-18-30-01</td>\n",
              "      <td>/content/drive/MyDrive/NLP_Project_New/models/...</td>\n",
              "      <td>0.603212</td>\n",
              "      <td>0.427376</td>\n",
              "      <td>0.984341</td>\n",
              "      <td>0.500294</td>\n",
              "      <td>bert model fine tuned on 1/16 of training data</td>\n",
              "    </tr>\n",
              "    <tr>\n",
              "      <th>4</th>\n",
              "      <td>/content/drive/MyDrive/NLP_Project_New/models/...</td>\n",
              "      <td>03-27-18-30-01</td>\n",
              "      <td>/content/drive/MyDrive/NLP_Project_New/models/...</td>\n",
              "      <td>0.011811</td>\n",
              "      <td>0.002937</td>\n",
              "      <td>0.976625</td>\n",
              "      <td>0.004705</td>\n",
              "      <td>bert model fine tuned on 1/64 of training data</td>\n",
              "    </tr>\n",
              "  </tbody>\n",
              "</table>\n",
              "</div>\n",
              "    <div class=\"colab-df-buttons\">\n",
              "\n",
              "  <div class=\"colab-df-container\">\n",
              "    <button class=\"colab-df-convert\" onclick=\"convertToInteractive('df-d8b4c580-4da1-4b65-9cf6-db0b6dafdfbe')\"\n",
              "            title=\"Convert this dataframe to an interactive table.\"\n",
              "            style=\"display:none;\">\n",
              "\n",
              "  <svg xmlns=\"http://www.w3.org/2000/svg\" height=\"24px\" viewBox=\"0 -960 960 960\">\n",
              "    <path d=\"M120-120v-720h720v720H120Zm60-500h600v-160H180v160Zm220 220h160v-160H400v160Zm0 220h160v-160H400v160ZM180-400h160v-160H180v160Zm440 0h160v-160H620v160ZM180-180h160v-160H180v160Zm440 0h160v-160H620v160Z\"/>\n",
              "  </svg>\n",
              "    </button>\n",
              "\n",
              "  <style>\n",
              "    .colab-df-container {\n",
              "      display:flex;\n",
              "      gap: 12px;\n",
              "    }\n",
              "\n",
              "    .colab-df-convert {\n",
              "      background-color: #E8F0FE;\n",
              "      border: none;\n",
              "      border-radius: 50%;\n",
              "      cursor: pointer;\n",
              "      display: none;\n",
              "      fill: #1967D2;\n",
              "      height: 32px;\n",
              "      padding: 0 0 0 0;\n",
              "      width: 32px;\n",
              "    }\n",
              "\n",
              "    .colab-df-convert:hover {\n",
              "      background-color: #E2EBFA;\n",
              "      box-shadow: 0px 1px 2px rgba(60, 64, 67, 0.3), 0px 1px 3px 1px rgba(60, 64, 67, 0.15);\n",
              "      fill: #174EA6;\n",
              "    }\n",
              "\n",
              "    .colab-df-buttons div {\n",
              "      margin-bottom: 4px;\n",
              "    }\n",
              "\n",
              "    [theme=dark] .colab-df-convert {\n",
              "      background-color: #3B4455;\n",
              "      fill: #D2E3FC;\n",
              "    }\n",
              "\n",
              "    [theme=dark] .colab-df-convert:hover {\n",
              "      background-color: #434B5C;\n",
              "      box-shadow: 0px 1px 3px 1px rgba(0, 0, 0, 0.15);\n",
              "      filter: drop-shadow(0px 1px 2px rgba(0, 0, 0, 0.3));\n",
              "      fill: #FFFFFF;\n",
              "    }\n",
              "  </style>\n",
              "\n",
              "    <script>\n",
              "      const buttonEl =\n",
              "        document.querySelector('#df-d8b4c580-4da1-4b65-9cf6-db0b6dafdfbe button.colab-df-convert');\n",
              "      buttonEl.style.display =\n",
              "        google.colab.kernel.accessAllowed ? 'block' : 'none';\n",
              "\n",
              "      async function convertToInteractive(key) {\n",
              "        const element = document.querySelector('#df-d8b4c580-4da1-4b65-9cf6-db0b6dafdfbe');\n",
              "        const dataTable =\n",
              "          await google.colab.kernel.invokeFunction('convertToInteractive',\n",
              "                                                    [key], {});\n",
              "        if (!dataTable) return;\n",
              "\n",
              "        const docLinkHtml = 'Like what you see? Visit the ' +\n",
              "          '<a target=\"_blank\" href=https://colab.research.google.com/notebooks/data_table.ipynb>data table notebook</a>'\n",
              "          + ' to learn more about interactive tables.';\n",
              "        element.innerHTML = '';\n",
              "        dataTable['output_type'] = 'display_data';\n",
              "        await google.colab.output.renderOutput(dataTable, element);\n",
              "        const docLink = document.createElement('div');\n",
              "        docLink.innerHTML = docLinkHtml;\n",
              "        element.appendChild(docLink);\n",
              "      }\n",
              "    </script>\n",
              "  </div>\n",
              "\n",
              "\n",
              "<div id=\"df-f60023c7-98c9-4112-8da9-f7b9c9597b93\">\n",
              "  <button class=\"colab-df-quickchart\" onclick=\"quickchart('df-f60023c7-98c9-4112-8da9-f7b9c9597b93')\"\n",
              "            title=\"Suggest charts\"\n",
              "            style=\"display:none;\">\n",
              "\n",
              "<svg xmlns=\"http://www.w3.org/2000/svg\" height=\"24px\"viewBox=\"0 0 24 24\"\n",
              "     width=\"24px\">\n",
              "    <g>\n",
              "        <path d=\"M19 3H5c-1.1 0-2 .9-2 2v14c0 1.1.9 2 2 2h14c1.1 0 2-.9 2-2V5c0-1.1-.9-2-2-2zM9 17H7v-7h2v7zm4 0h-2V7h2v10zm4 0h-2v-4h2v4z\"/>\n",
              "    </g>\n",
              "</svg>\n",
              "  </button>\n",
              "\n",
              "<style>\n",
              "  .colab-df-quickchart {\n",
              "      --bg-color: #E8F0FE;\n",
              "      --fill-color: #1967D2;\n",
              "      --hover-bg-color: #E2EBFA;\n",
              "      --hover-fill-color: #174EA6;\n",
              "      --disabled-fill-color: #AAA;\n",
              "      --disabled-bg-color: #DDD;\n",
              "  }\n",
              "\n",
              "  [theme=dark] .colab-df-quickchart {\n",
              "      --bg-color: #3B4455;\n",
              "      --fill-color: #D2E3FC;\n",
              "      --hover-bg-color: #434B5C;\n",
              "      --hover-fill-color: #FFFFFF;\n",
              "      --disabled-bg-color: #3B4455;\n",
              "      --disabled-fill-color: #666;\n",
              "  }\n",
              "\n",
              "  .colab-df-quickchart {\n",
              "    background-color: var(--bg-color);\n",
              "    border: none;\n",
              "    border-radius: 50%;\n",
              "    cursor: pointer;\n",
              "    display: none;\n",
              "    fill: var(--fill-color);\n",
              "    height: 32px;\n",
              "    padding: 0;\n",
              "    width: 32px;\n",
              "  }\n",
              "\n",
              "  .colab-df-quickchart:hover {\n",
              "    background-color: var(--hover-bg-color);\n",
              "    box-shadow: 0 1px 2px rgba(60, 64, 67, 0.3), 0 1px 3px 1px rgba(60, 64, 67, 0.15);\n",
              "    fill: var(--button-hover-fill-color);\n",
              "  }\n",
              "\n",
              "  .colab-df-quickchart-complete:disabled,\n",
              "  .colab-df-quickchart-complete:disabled:hover {\n",
              "    background-color: var(--disabled-bg-color);\n",
              "    fill: var(--disabled-fill-color);\n",
              "    box-shadow: none;\n",
              "  }\n",
              "\n",
              "  .colab-df-spinner {\n",
              "    border: 2px solid var(--fill-color);\n",
              "    border-color: transparent;\n",
              "    border-bottom-color: var(--fill-color);\n",
              "    animation:\n",
              "      spin 1s steps(1) infinite;\n",
              "  }\n",
              "\n",
              "  @keyframes spin {\n",
              "    0% {\n",
              "      border-color: transparent;\n",
              "      border-bottom-color: var(--fill-color);\n",
              "      border-left-color: var(--fill-color);\n",
              "    }\n",
              "    20% {\n",
              "      border-color: transparent;\n",
              "      border-left-color: var(--fill-color);\n",
              "      border-top-color: var(--fill-color);\n",
              "    }\n",
              "    30% {\n",
              "      border-color: transparent;\n",
              "      border-left-color: var(--fill-color);\n",
              "      border-top-color: var(--fill-color);\n",
              "      border-right-color: var(--fill-color);\n",
              "    }\n",
              "    40% {\n",
              "      border-color: transparent;\n",
              "      border-right-color: var(--fill-color);\n",
              "      border-top-color: var(--fill-color);\n",
              "    }\n",
              "    60% {\n",
              "      border-color: transparent;\n",
              "      border-right-color: var(--fill-color);\n",
              "    }\n",
              "    80% {\n",
              "      border-color: transparent;\n",
              "      border-right-color: var(--fill-color);\n",
              "      border-bottom-color: var(--fill-color);\n",
              "    }\n",
              "    90% {\n",
              "      border-color: transparent;\n",
              "      border-bottom-color: var(--fill-color);\n",
              "    }\n",
              "  }\n",
              "</style>\n",
              "\n",
              "  <script>\n",
              "    async function quickchart(key) {\n",
              "      const quickchartButtonEl =\n",
              "        document.querySelector('#' + key + ' button');\n",
              "      quickchartButtonEl.disabled = true;  // To prevent multiple clicks.\n",
              "      quickchartButtonEl.classList.add('colab-df-spinner');\n",
              "      try {\n",
              "        const charts = await google.colab.kernel.invokeFunction(\n",
              "            'suggestCharts', [key], {});\n",
              "      } catch (error) {\n",
              "        console.error('Error during call to suggestCharts:', error);\n",
              "      }\n",
              "      quickchartButtonEl.classList.remove('colab-df-spinner');\n",
              "      quickchartButtonEl.classList.add('colab-df-quickchart-complete');\n",
              "    }\n",
              "    (() => {\n",
              "      let quickchartButtonEl =\n",
              "        document.querySelector('#df-f60023c7-98c9-4112-8da9-f7b9c9597b93 button');\n",
              "      quickchartButtonEl.style.display =\n",
              "        google.colab.kernel.accessAllowed ? 'block' : 'none';\n",
              "    })();\n",
              "  </script>\n",
              "</div>\n",
              "    </div>\n",
              "  </div>\n"
            ],
            "application/vnd.google.colaboratory.intrinsic+json": {
              "type": "dataframe",
              "variable_name": "model_comp_df",
              "summary": "{\n  \"name\": \"model_comp_df\",\n  \"rows\": 5,\n  \"fields\": [\n    {\n      \"column\": \"attempt\",\n      \"properties\": {\n        \"dtype\": \"string\",\n        \"num_unique_values\": 5,\n        \"samples\": [\n          \"/content/drive/MyDrive/NLP_Project_New/models/bert_finetuned_4_part--03-27-17-33-57\",\n          \"/content/drive/MyDrive/NLP_Project_New/models/bert_finetuned_64_part--03-27-17-33-57\",\n          \"/content/drive/MyDrive/NLP_Project_New/models/bert_finetuned_8_part--03-27-17-33-57\"\n        ],\n        \"semantic_type\": \"\",\n        \"description\": \"\"\n      }\n    },\n    {\n      \"column\": \"time\",\n      \"properties\": {\n        \"dtype\": \"category\",\n        \"num_unique_values\": 1,\n        \"samples\": [\n          \"03-27-18-30-01\"\n        ],\n        \"semantic_type\": \"\",\n        \"description\": \"\"\n      }\n    },\n    {\n      \"column\": \"model_name\",\n      \"properties\": {\n        \"dtype\": \"string\",\n        \"num_unique_values\": 5,\n        \"samples\": [\n          \"/content/drive/MyDrive/NLP_Project_New/models/bert_finetuned_4_part\"\n        ],\n        \"semantic_type\": \"\",\n        \"description\": \"\"\n      }\n    },\n    {\n      \"column\": \"precision\",\n      \"properties\": {\n        \"dtype\": \"number\",\n        \"std\": 0.32973992723829876,\n        \"min\": 0.011811023622047244,\n        \"max\": 0.7805255023183926,\n        \"num_unique_values\": 5,\n        \"samples\": [\n          0.7650709219858156\n        ],\n        \"semantic_type\": \"\",\n        \"description\": \"\"\n      }\n    },\n    {\n      \"column\": \"recall\",\n      \"properties\": {\n        \"dtype\": \"number\",\n        \"std\": 0.2407552207135033,\n        \"min\": 0.00293733681462141,\n        \"max\": 0.5927392739273928,\n        \"num_unique_values\": 5,\n        \"samples\": [\n          0.5685111989459816\n        ],\n        \"semantic_type\": \"\",\n        \"description\": \"\"\n      }\n    },\n    {\n      \"column\": \"accuracy\",\n      \"properties\": {\n        \"dtype\": \"number\",\n        \"std\": 0.005246495238754864,\n        \"min\": 0.9766249869559079,\n        \"max\": 0.989190284146364,\n        \"num_unique_values\": 5,\n        \"samples\": [\n          0.9887053508400396\n        ],\n        \"semantic_type\": \"\",\n        \"description\": \"\"\n      }\n    },\n    {\n      \"column\": \"F1-score\",\n      \"properties\": {\n        \"dtype\": \"number\",\n        \"std\": 0.27772113345883936,\n        \"min\": 0.004704652378463146,\n        \"max\": 0.6710255931253504,\n        \"num_unique_values\": 5,\n        \"samples\": [\n          0.6523053665910808\n        ],\n        \"semantic_type\": \"\",\n        \"description\": \"\"\n      }\n    },\n    {\n      \"column\": \"comments\",\n      \"properties\": {\n        \"dtype\": \"string\",\n        \"num_unique_values\": 5,\n        \"samples\": [\n          \"bert model fine tuned on 1/4 the training data\"\n        ],\n        \"semantic_type\": \"\",\n        \"description\": \"\"\n      }\n    }\n  ]\n}"
            }
          },
          "metadata": {},
          "execution_count": 46
        }
      ],
      "source": [
        "model_comp_df.head(10)"
      ]
    }
  ],
  "metadata": {
    "kernelspec": {
      "display_name": "base",
      "language": "python",
      "name": "python3"
    },
    "language_info": {
      "codemirror_mode": {
        "name": "ipython",
        "version": 3
      },
      "file_extension": ".py",
      "mimetype": "text/x-python",
      "name": "python",
      "nbconvert_exporter": "python",
      "pygments_lexer": "ipython3",
      "version": "3.9.7"
    },
    "colab": {
      "provenance": []
    }
  },
  "nbformat": 4,
  "nbformat_minor": 0
}