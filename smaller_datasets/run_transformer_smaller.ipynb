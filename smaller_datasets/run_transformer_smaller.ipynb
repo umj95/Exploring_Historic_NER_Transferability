{
  "nbformat": 4,
  "nbformat_minor": 0,
  "metadata": {
    "colab": {
      "provenance": [],
      "machine_shape": "hm"
    },
    "kernelspec": {
      "name": "python3",
      "display_name": "Python 3"
    },
    "language_info": {
      "name": "python"
    },
    "widgets": {
      "application/vnd.jupyter.widget-state+json": {
        "de793962cdfe49bfbab5fcb653a4d842": {
          "model_module": "@jupyter-widgets/controls",
          "model_name": "HBoxModel",
          "model_module_version": "1.5.0",
          "state": {
            "_dom_classes": [],
            "_model_module": "@jupyter-widgets/controls",
            "_model_module_version": "1.5.0",
            "_model_name": "HBoxModel",
            "_view_count": null,
            "_view_module": "@jupyter-widgets/controls",
            "_view_module_version": "1.5.0",
            "_view_name": "HBoxView",
            "box_style": "",
            "children": [
              "IPY_MODEL_4eb5b0f233d74877aa1c6106c2ab15ab",
              "IPY_MODEL_27f52f5dda9d4a5cb17e0cb33cfc9e47",
              "IPY_MODEL_63e09332dfea4325b5074f47beb3b45a"
            ],
            "layout": "IPY_MODEL_9794ce6b98824179904a105937fbb198"
          }
        },
        "4eb5b0f233d74877aa1c6106c2ab15ab": {
          "model_module": "@jupyter-widgets/controls",
          "model_name": "HTMLModel",
          "model_module_version": "1.5.0",
          "state": {
            "_dom_classes": [],
            "_model_module": "@jupyter-widgets/controls",
            "_model_module_version": "1.5.0",
            "_model_name": "HTMLModel",
            "_view_count": null,
            "_view_module": "@jupyter-widgets/controls",
            "_view_module_version": "1.5.0",
            "_view_name": "HTMLView",
            "description": "",
            "description_tooltip": null,
            "layout": "IPY_MODEL_478e27e71f6d46838634b4017f1cdd02",
            "placeholder": "​",
            "style": "IPY_MODEL_5221b0b1b0c2403aae8e8c0f8282f258",
            "value": "tokenizer_config.json: 100%"
          }
        },
        "27f52f5dda9d4a5cb17e0cb33cfc9e47": {
          "model_module": "@jupyter-widgets/controls",
          "model_name": "FloatProgressModel",
          "model_module_version": "1.5.0",
          "state": {
            "_dom_classes": [],
            "_model_module": "@jupyter-widgets/controls",
            "_model_module_version": "1.5.0",
            "_model_name": "FloatProgressModel",
            "_view_count": null,
            "_view_module": "@jupyter-widgets/controls",
            "_view_module_version": "1.5.0",
            "_view_name": "ProgressView",
            "bar_style": "success",
            "description": "",
            "description_tooltip": null,
            "layout": "IPY_MODEL_c95366e44098434f8787db4523b9e000",
            "max": 59,
            "min": 0,
            "orientation": "horizontal",
            "style": "IPY_MODEL_49074202f2764c439b098d6aede88bf4",
            "value": 59
          }
        },
        "63e09332dfea4325b5074f47beb3b45a": {
          "model_module": "@jupyter-widgets/controls",
          "model_name": "HTMLModel",
          "model_module_version": "1.5.0",
          "state": {
            "_dom_classes": [],
            "_model_module": "@jupyter-widgets/controls",
            "_model_module_version": "1.5.0",
            "_model_name": "HTMLModel",
            "_view_count": null,
            "_view_module": "@jupyter-widgets/controls",
            "_view_module_version": "1.5.0",
            "_view_name": "HTMLView",
            "description": "",
            "description_tooltip": null,
            "layout": "IPY_MODEL_93982662faa94126a831e914f86919b1",
            "placeholder": "​",
            "style": "IPY_MODEL_9edcf78d43d445ac900b59a49915a455",
            "value": " 59.0/59.0 [00:00&lt;00:00, 3.15kB/s]"
          }
        },
        "9794ce6b98824179904a105937fbb198": {
          "model_module": "@jupyter-widgets/base",
          "model_name": "LayoutModel",
          "model_module_version": "1.2.0",
          "state": {
            "_model_module": "@jupyter-widgets/base",
            "_model_module_version": "1.2.0",
            "_model_name": "LayoutModel",
            "_view_count": null,
            "_view_module": "@jupyter-widgets/base",
            "_view_module_version": "1.2.0",
            "_view_name": "LayoutView",
            "align_content": null,
            "align_items": null,
            "align_self": null,
            "border": null,
            "bottom": null,
            "display": null,
            "flex": null,
            "flex_flow": null,
            "grid_area": null,
            "grid_auto_columns": null,
            "grid_auto_flow": null,
            "grid_auto_rows": null,
            "grid_column": null,
            "grid_gap": null,
            "grid_row": null,
            "grid_template_areas": null,
            "grid_template_columns": null,
            "grid_template_rows": null,
            "height": null,
            "justify_content": null,
            "justify_items": null,
            "left": null,
            "margin": null,
            "max_height": null,
            "max_width": null,
            "min_height": null,
            "min_width": null,
            "object_fit": null,
            "object_position": null,
            "order": null,
            "overflow": null,
            "overflow_x": null,
            "overflow_y": null,
            "padding": null,
            "right": null,
            "top": null,
            "visibility": null,
            "width": null
          }
        },
        "478e27e71f6d46838634b4017f1cdd02": {
          "model_module": "@jupyter-widgets/base",
          "model_name": "LayoutModel",
          "model_module_version": "1.2.0",
          "state": {
            "_model_module": "@jupyter-widgets/base",
            "_model_module_version": "1.2.0",
            "_model_name": "LayoutModel",
            "_view_count": null,
            "_view_module": "@jupyter-widgets/base",
            "_view_module_version": "1.2.0",
            "_view_name": "LayoutView",
            "align_content": null,
            "align_items": null,
            "align_self": null,
            "border": null,
            "bottom": null,
            "display": null,
            "flex": null,
            "flex_flow": null,
            "grid_area": null,
            "grid_auto_columns": null,
            "grid_auto_flow": null,
            "grid_auto_rows": null,
            "grid_column": null,
            "grid_gap": null,
            "grid_row": null,
            "grid_template_areas": null,
            "grid_template_columns": null,
            "grid_template_rows": null,
            "height": null,
            "justify_content": null,
            "justify_items": null,
            "left": null,
            "margin": null,
            "max_height": null,
            "max_width": null,
            "min_height": null,
            "min_width": null,
            "object_fit": null,
            "object_position": null,
            "order": null,
            "overflow": null,
            "overflow_x": null,
            "overflow_y": null,
            "padding": null,
            "right": null,
            "top": null,
            "visibility": null,
            "width": null
          }
        },
        "5221b0b1b0c2403aae8e8c0f8282f258": {
          "model_module": "@jupyter-widgets/controls",
          "model_name": "DescriptionStyleModel",
          "model_module_version": "1.5.0",
          "state": {
            "_model_module": "@jupyter-widgets/controls",
            "_model_module_version": "1.5.0",
            "_model_name": "DescriptionStyleModel",
            "_view_count": null,
            "_view_module": "@jupyter-widgets/base",
            "_view_module_version": "1.2.0",
            "_view_name": "StyleView",
            "description_width": ""
          }
        },
        "c95366e44098434f8787db4523b9e000": {
          "model_module": "@jupyter-widgets/base",
          "model_name": "LayoutModel",
          "model_module_version": "1.2.0",
          "state": {
            "_model_module": "@jupyter-widgets/base",
            "_model_module_version": "1.2.0",
            "_model_name": "LayoutModel",
            "_view_count": null,
            "_view_module": "@jupyter-widgets/base",
            "_view_module_version": "1.2.0",
            "_view_name": "LayoutView",
            "align_content": null,
            "align_items": null,
            "align_self": null,
            "border": null,
            "bottom": null,
            "display": null,
            "flex": null,
            "flex_flow": null,
            "grid_area": null,
            "grid_auto_columns": null,
            "grid_auto_flow": null,
            "grid_auto_rows": null,
            "grid_column": null,
            "grid_gap": null,
            "grid_row": null,
            "grid_template_areas": null,
            "grid_template_columns": null,
            "grid_template_rows": null,
            "height": null,
            "justify_content": null,
            "justify_items": null,
            "left": null,
            "margin": null,
            "max_height": null,
            "max_width": null,
            "min_height": null,
            "min_width": null,
            "object_fit": null,
            "object_position": null,
            "order": null,
            "overflow": null,
            "overflow_x": null,
            "overflow_y": null,
            "padding": null,
            "right": null,
            "top": null,
            "visibility": null,
            "width": null
          }
        },
        "49074202f2764c439b098d6aede88bf4": {
          "model_module": "@jupyter-widgets/controls",
          "model_name": "ProgressStyleModel",
          "model_module_version": "1.5.0",
          "state": {
            "_model_module": "@jupyter-widgets/controls",
            "_model_module_version": "1.5.0",
            "_model_name": "ProgressStyleModel",
            "_view_count": null,
            "_view_module": "@jupyter-widgets/base",
            "_view_module_version": "1.2.0",
            "_view_name": "StyleView",
            "bar_color": null,
            "description_width": ""
          }
        },
        "93982662faa94126a831e914f86919b1": {
          "model_module": "@jupyter-widgets/base",
          "model_name": "LayoutModel",
          "model_module_version": "1.2.0",
          "state": {
            "_model_module": "@jupyter-widgets/base",
            "_model_module_version": "1.2.0",
            "_model_name": "LayoutModel",
            "_view_count": null,
            "_view_module": "@jupyter-widgets/base",
            "_view_module_version": "1.2.0",
            "_view_name": "LayoutView",
            "align_content": null,
            "align_items": null,
            "align_self": null,
            "border": null,
            "bottom": null,
            "display": null,
            "flex": null,
            "flex_flow": null,
            "grid_area": null,
            "grid_auto_columns": null,
            "grid_auto_flow": null,
            "grid_auto_rows": null,
            "grid_column": null,
            "grid_gap": null,
            "grid_row": null,
            "grid_template_areas": null,
            "grid_template_columns": null,
            "grid_template_rows": null,
            "height": null,
            "justify_content": null,
            "justify_items": null,
            "left": null,
            "margin": null,
            "max_height": null,
            "max_width": null,
            "min_height": null,
            "min_width": null,
            "object_fit": null,
            "object_position": null,
            "order": null,
            "overflow": null,
            "overflow_x": null,
            "overflow_y": null,
            "padding": null,
            "right": null,
            "top": null,
            "visibility": null,
            "width": null
          }
        },
        "9edcf78d43d445ac900b59a49915a455": {
          "model_module": "@jupyter-widgets/controls",
          "model_name": "DescriptionStyleModel",
          "model_module_version": "1.5.0",
          "state": {
            "_model_module": "@jupyter-widgets/controls",
            "_model_module_version": "1.5.0",
            "_model_name": "DescriptionStyleModel",
            "_view_count": null,
            "_view_module": "@jupyter-widgets/base",
            "_view_module_version": "1.2.0",
            "_view_name": "StyleView",
            "description_width": ""
          }
        },
        "09e15cd2124c48a88fc08c157c64693a": {
          "model_module": "@jupyter-widgets/controls",
          "model_name": "HBoxModel",
          "model_module_version": "1.5.0",
          "state": {
            "_dom_classes": [],
            "_model_module": "@jupyter-widgets/controls",
            "_model_module_version": "1.5.0",
            "_model_name": "HBoxModel",
            "_view_count": null,
            "_view_module": "@jupyter-widgets/controls",
            "_view_module_version": "1.5.0",
            "_view_name": "HBoxView",
            "box_style": "",
            "children": [
              "IPY_MODEL_bd49f2ad1ac14cf6b939d5850785a30b",
              "IPY_MODEL_38ff1aadae244ddfa8570895309804f5",
              "IPY_MODEL_a9f57215685f4e37b86a0b746e104bd5"
            ],
            "layout": "IPY_MODEL_b65190d522154f7fbab98e34fa3c302f"
          }
        },
        "bd49f2ad1ac14cf6b939d5850785a30b": {
          "model_module": "@jupyter-widgets/controls",
          "model_name": "HTMLModel",
          "model_module_version": "1.5.0",
          "state": {
            "_dom_classes": [],
            "_model_module": "@jupyter-widgets/controls",
            "_model_module_version": "1.5.0",
            "_model_name": "HTMLModel",
            "_view_count": null,
            "_view_module": "@jupyter-widgets/controls",
            "_view_module_version": "1.5.0",
            "_view_name": "HTMLView",
            "description": "",
            "description_tooltip": null,
            "layout": "IPY_MODEL_b319944f042a4945a81f3dcc02f1b8f6",
            "placeholder": "​",
            "style": "IPY_MODEL_671caf0bee614d30a54c5097bcce4461",
            "value": "vocab.txt: 100%"
          }
        },
        "38ff1aadae244ddfa8570895309804f5": {
          "model_module": "@jupyter-widgets/controls",
          "model_name": "FloatProgressModel",
          "model_module_version": "1.5.0",
          "state": {
            "_dom_classes": [],
            "_model_module": "@jupyter-widgets/controls",
            "_model_module_version": "1.5.0",
            "_model_name": "FloatProgressModel",
            "_view_count": null,
            "_view_module": "@jupyter-widgets/controls",
            "_view_module_version": "1.5.0",
            "_view_name": "ProgressView",
            "bar_style": "success",
            "description": "",
            "description_tooltip": null,
            "layout": "IPY_MODEL_2204d79c9b1a4332afed37d6069504a7",
            "max": 239836,
            "min": 0,
            "orientation": "horizontal",
            "style": "IPY_MODEL_c2f8b09cf62a4380b2edf54dbe32d2c4",
            "value": 239836
          }
        },
        "a9f57215685f4e37b86a0b746e104bd5": {
          "model_module": "@jupyter-widgets/controls",
          "model_name": "HTMLModel",
          "model_module_version": "1.5.0",
          "state": {
            "_dom_classes": [],
            "_model_module": "@jupyter-widgets/controls",
            "_model_module_version": "1.5.0",
            "_model_name": "HTMLModel",
            "_view_count": null,
            "_view_module": "@jupyter-widgets/controls",
            "_view_module_version": "1.5.0",
            "_view_name": "HTMLView",
            "description": "",
            "description_tooltip": null,
            "layout": "IPY_MODEL_734697f8bc454361a90c1069b1a5d6c4",
            "placeholder": "​",
            "style": "IPY_MODEL_7e5766b05c124832a0ae7f3e4672ea1d",
            "value": " 240k/240k [00:00&lt;00:00, 2.27MB/s]"
          }
        },
        "b65190d522154f7fbab98e34fa3c302f": {
          "model_module": "@jupyter-widgets/base",
          "model_name": "LayoutModel",
          "model_module_version": "1.2.0",
          "state": {
            "_model_module": "@jupyter-widgets/base",
            "_model_module_version": "1.2.0",
            "_model_name": "LayoutModel",
            "_view_count": null,
            "_view_module": "@jupyter-widgets/base",
            "_view_module_version": "1.2.0",
            "_view_name": "LayoutView",
            "align_content": null,
            "align_items": null,
            "align_self": null,
            "border": null,
            "bottom": null,
            "display": null,
            "flex": null,
            "flex_flow": null,
            "grid_area": null,
            "grid_auto_columns": null,
            "grid_auto_flow": null,
            "grid_auto_rows": null,
            "grid_column": null,
            "grid_gap": null,
            "grid_row": null,
            "grid_template_areas": null,
            "grid_template_columns": null,
            "grid_template_rows": null,
            "height": null,
            "justify_content": null,
            "justify_items": null,
            "left": null,
            "margin": null,
            "max_height": null,
            "max_width": null,
            "min_height": null,
            "min_width": null,
            "object_fit": null,
            "object_position": null,
            "order": null,
            "overflow": null,
            "overflow_x": null,
            "overflow_y": null,
            "padding": null,
            "right": null,
            "top": null,
            "visibility": null,
            "width": null
          }
        },
        "b319944f042a4945a81f3dcc02f1b8f6": {
          "model_module": "@jupyter-widgets/base",
          "model_name": "LayoutModel",
          "model_module_version": "1.2.0",
          "state": {
            "_model_module": "@jupyter-widgets/base",
            "_model_module_version": "1.2.0",
            "_model_name": "LayoutModel",
            "_view_count": null,
            "_view_module": "@jupyter-widgets/base",
            "_view_module_version": "1.2.0",
            "_view_name": "LayoutView",
            "align_content": null,
            "align_items": null,
            "align_self": null,
            "border": null,
            "bottom": null,
            "display": null,
            "flex": null,
            "flex_flow": null,
            "grid_area": null,
            "grid_auto_columns": null,
            "grid_auto_flow": null,
            "grid_auto_rows": null,
            "grid_column": null,
            "grid_gap": null,
            "grid_row": null,
            "grid_template_areas": null,
            "grid_template_columns": null,
            "grid_template_rows": null,
            "height": null,
            "justify_content": null,
            "justify_items": null,
            "left": null,
            "margin": null,
            "max_height": null,
            "max_width": null,
            "min_height": null,
            "min_width": null,
            "object_fit": null,
            "object_position": null,
            "order": null,
            "overflow": null,
            "overflow_x": null,
            "overflow_y": null,
            "padding": null,
            "right": null,
            "top": null,
            "visibility": null,
            "width": null
          }
        },
        "671caf0bee614d30a54c5097bcce4461": {
          "model_module": "@jupyter-widgets/controls",
          "model_name": "DescriptionStyleModel",
          "model_module_version": "1.5.0",
          "state": {
            "_model_module": "@jupyter-widgets/controls",
            "_model_module_version": "1.5.0",
            "_model_name": "DescriptionStyleModel",
            "_view_count": null,
            "_view_module": "@jupyter-widgets/base",
            "_view_module_version": "1.2.0",
            "_view_name": "StyleView",
            "description_width": ""
          }
        },
        "2204d79c9b1a4332afed37d6069504a7": {
          "model_module": "@jupyter-widgets/base",
          "model_name": "LayoutModel",
          "model_module_version": "1.2.0",
          "state": {
            "_model_module": "@jupyter-widgets/base",
            "_model_module_version": "1.2.0",
            "_model_name": "LayoutModel",
            "_view_count": null,
            "_view_module": "@jupyter-widgets/base",
            "_view_module_version": "1.2.0",
            "_view_name": "LayoutView",
            "align_content": null,
            "align_items": null,
            "align_self": null,
            "border": null,
            "bottom": null,
            "display": null,
            "flex": null,
            "flex_flow": null,
            "grid_area": null,
            "grid_auto_columns": null,
            "grid_auto_flow": null,
            "grid_auto_rows": null,
            "grid_column": null,
            "grid_gap": null,
            "grid_row": null,
            "grid_template_areas": null,
            "grid_template_columns": null,
            "grid_template_rows": null,
            "height": null,
            "justify_content": null,
            "justify_items": null,
            "left": null,
            "margin": null,
            "max_height": null,
            "max_width": null,
            "min_height": null,
            "min_width": null,
            "object_fit": null,
            "object_position": null,
            "order": null,
            "overflow": null,
            "overflow_x": null,
            "overflow_y": null,
            "padding": null,
            "right": null,
            "top": null,
            "visibility": null,
            "width": null
          }
        },
        "c2f8b09cf62a4380b2edf54dbe32d2c4": {
          "model_module": "@jupyter-widgets/controls",
          "model_name": "ProgressStyleModel",
          "model_module_version": "1.5.0",
          "state": {
            "_model_module": "@jupyter-widgets/controls",
            "_model_module_version": "1.5.0",
            "_model_name": "ProgressStyleModel",
            "_view_count": null,
            "_view_module": "@jupyter-widgets/base",
            "_view_module_version": "1.2.0",
            "_view_name": "StyleView",
            "bar_color": null,
            "description_width": ""
          }
        },
        "734697f8bc454361a90c1069b1a5d6c4": {
          "model_module": "@jupyter-widgets/base",
          "model_name": "LayoutModel",
          "model_module_version": "1.2.0",
          "state": {
            "_model_module": "@jupyter-widgets/base",
            "_model_module_version": "1.2.0",
            "_model_name": "LayoutModel",
            "_view_count": null,
            "_view_module": "@jupyter-widgets/base",
            "_view_module_version": "1.2.0",
            "_view_name": "LayoutView",
            "align_content": null,
            "align_items": null,
            "align_self": null,
            "border": null,
            "bottom": null,
            "display": null,
            "flex": null,
            "flex_flow": null,
            "grid_area": null,
            "grid_auto_columns": null,
            "grid_auto_flow": null,
            "grid_auto_rows": null,
            "grid_column": null,
            "grid_gap": null,
            "grid_row": null,
            "grid_template_areas": null,
            "grid_template_columns": null,
            "grid_template_rows": null,
            "height": null,
            "justify_content": null,
            "justify_items": null,
            "left": null,
            "margin": null,
            "max_height": null,
            "max_width": null,
            "min_height": null,
            "min_width": null,
            "object_fit": null,
            "object_position": null,
            "order": null,
            "overflow": null,
            "overflow_x": null,
            "overflow_y": null,
            "padding": null,
            "right": null,
            "top": null,
            "visibility": null,
            "width": null
          }
        },
        "7e5766b05c124832a0ae7f3e4672ea1d": {
          "model_module": "@jupyter-widgets/controls",
          "model_name": "DescriptionStyleModel",
          "model_module_version": "1.5.0",
          "state": {
            "_model_module": "@jupyter-widgets/controls",
            "_model_module_version": "1.5.0",
            "_model_name": "DescriptionStyleModel",
            "_view_count": null,
            "_view_module": "@jupyter-widgets/base",
            "_view_module_version": "1.2.0",
            "_view_name": "StyleView",
            "description_width": ""
          }
        },
        "40f7ed0aca3648039e03d0907dd90801": {
          "model_module": "@jupyter-widgets/controls",
          "model_name": "HBoxModel",
          "model_module_version": "1.5.0",
          "state": {
            "_dom_classes": [],
            "_model_module": "@jupyter-widgets/controls",
            "_model_module_version": "1.5.0",
            "_model_name": "HBoxModel",
            "_view_count": null,
            "_view_module": "@jupyter-widgets/controls",
            "_view_module_version": "1.5.0",
            "_view_name": "HBoxView",
            "box_style": "",
            "children": [
              "IPY_MODEL_f8b85809521741acab887da59205def3",
              "IPY_MODEL_9f28968b291945f7a693332d73b4060d",
              "IPY_MODEL_7ea9a5b26a5643f99cd2dd20460ba3b1"
            ],
            "layout": "IPY_MODEL_d2301165dc1341b8b8b459a1b900204c"
          }
        },
        "f8b85809521741acab887da59205def3": {
          "model_module": "@jupyter-widgets/controls",
          "model_name": "HTMLModel",
          "model_module_version": "1.5.0",
          "state": {
            "_dom_classes": [],
            "_model_module": "@jupyter-widgets/controls",
            "_model_module_version": "1.5.0",
            "_model_name": "HTMLModel",
            "_view_count": null,
            "_view_module": "@jupyter-widgets/controls",
            "_view_module_version": "1.5.0",
            "_view_name": "HTMLView",
            "description": "",
            "description_tooltip": null,
            "layout": "IPY_MODEL_0b430a5008dc47c38d806e24d6b3f996",
            "placeholder": "​",
            "style": "IPY_MODEL_d82da82068ed4bd7bdbcf55cfc6a31ac",
            "value": "config.json: 100%"
          }
        },
        "9f28968b291945f7a693332d73b4060d": {
          "model_module": "@jupyter-widgets/controls",
          "model_name": "FloatProgressModel",
          "model_module_version": "1.5.0",
          "state": {
            "_dom_classes": [],
            "_model_module": "@jupyter-widgets/controls",
            "_model_module_version": "1.5.0",
            "_model_name": "FloatProgressModel",
            "_view_count": null,
            "_view_module": "@jupyter-widgets/controls",
            "_view_module_version": "1.5.0",
            "_view_name": "ProgressView",
            "bar_style": "success",
            "description": "",
            "description_tooltip": null,
            "layout": "IPY_MODEL_49937d689aef4760af03536f898e46e1",
            "max": 456,
            "min": 0,
            "orientation": "horizontal",
            "style": "IPY_MODEL_8c1b00c005c8424f9807be620a5fe244",
            "value": 456
          }
        },
        "7ea9a5b26a5643f99cd2dd20460ba3b1": {
          "model_module": "@jupyter-widgets/controls",
          "model_name": "HTMLModel",
          "model_module_version": "1.5.0",
          "state": {
            "_dom_classes": [],
            "_model_module": "@jupyter-widgets/controls",
            "_model_module_version": "1.5.0",
            "_model_name": "HTMLModel",
            "_view_count": null,
            "_view_module": "@jupyter-widgets/controls",
            "_view_module_version": "1.5.0",
            "_view_name": "HTMLView",
            "description": "",
            "description_tooltip": null,
            "layout": "IPY_MODEL_ef0fd4364617431aa662712ddaf7db4c",
            "placeholder": "​",
            "style": "IPY_MODEL_ac5fe798339f4d25ae6c0460ab7f326e",
            "value": " 456/456 [00:00&lt;00:00, 28.8kB/s]"
          }
        },
        "d2301165dc1341b8b8b459a1b900204c": {
          "model_module": "@jupyter-widgets/base",
          "model_name": "LayoutModel",
          "model_module_version": "1.2.0",
          "state": {
            "_model_module": "@jupyter-widgets/base",
            "_model_module_version": "1.2.0",
            "_model_name": "LayoutModel",
            "_view_count": null,
            "_view_module": "@jupyter-widgets/base",
            "_view_module_version": "1.2.0",
            "_view_name": "LayoutView",
            "align_content": null,
            "align_items": null,
            "align_self": null,
            "border": null,
            "bottom": null,
            "display": null,
            "flex": null,
            "flex_flow": null,
            "grid_area": null,
            "grid_auto_columns": null,
            "grid_auto_flow": null,
            "grid_auto_rows": null,
            "grid_column": null,
            "grid_gap": null,
            "grid_row": null,
            "grid_template_areas": null,
            "grid_template_columns": null,
            "grid_template_rows": null,
            "height": null,
            "justify_content": null,
            "justify_items": null,
            "left": null,
            "margin": null,
            "max_height": null,
            "max_width": null,
            "min_height": null,
            "min_width": null,
            "object_fit": null,
            "object_position": null,
            "order": null,
            "overflow": null,
            "overflow_x": null,
            "overflow_y": null,
            "padding": null,
            "right": null,
            "top": null,
            "visibility": null,
            "width": null
          }
        },
        "0b430a5008dc47c38d806e24d6b3f996": {
          "model_module": "@jupyter-widgets/base",
          "model_name": "LayoutModel",
          "model_module_version": "1.2.0",
          "state": {
            "_model_module": "@jupyter-widgets/base",
            "_model_module_version": "1.2.0",
            "_model_name": "LayoutModel",
            "_view_count": null,
            "_view_module": "@jupyter-widgets/base",
            "_view_module_version": "1.2.0",
            "_view_name": "LayoutView",
            "align_content": null,
            "align_items": null,
            "align_self": null,
            "border": null,
            "bottom": null,
            "display": null,
            "flex": null,
            "flex_flow": null,
            "grid_area": null,
            "grid_auto_columns": null,
            "grid_auto_flow": null,
            "grid_auto_rows": null,
            "grid_column": null,
            "grid_gap": null,
            "grid_row": null,
            "grid_template_areas": null,
            "grid_template_columns": null,
            "grid_template_rows": null,
            "height": null,
            "justify_content": null,
            "justify_items": null,
            "left": null,
            "margin": null,
            "max_height": null,
            "max_width": null,
            "min_height": null,
            "min_width": null,
            "object_fit": null,
            "object_position": null,
            "order": null,
            "overflow": null,
            "overflow_x": null,
            "overflow_y": null,
            "padding": null,
            "right": null,
            "top": null,
            "visibility": null,
            "width": null
          }
        },
        "d82da82068ed4bd7bdbcf55cfc6a31ac": {
          "model_module": "@jupyter-widgets/controls",
          "model_name": "DescriptionStyleModel",
          "model_module_version": "1.5.0",
          "state": {
            "_model_module": "@jupyter-widgets/controls",
            "_model_module_version": "1.5.0",
            "_model_name": "DescriptionStyleModel",
            "_view_count": null,
            "_view_module": "@jupyter-widgets/base",
            "_view_module_version": "1.2.0",
            "_view_name": "StyleView",
            "description_width": ""
          }
        },
        "49937d689aef4760af03536f898e46e1": {
          "model_module": "@jupyter-widgets/base",
          "model_name": "LayoutModel",
          "model_module_version": "1.2.0",
          "state": {
            "_model_module": "@jupyter-widgets/base",
            "_model_module_version": "1.2.0",
            "_model_name": "LayoutModel",
            "_view_count": null,
            "_view_module": "@jupyter-widgets/base",
            "_view_module_version": "1.2.0",
            "_view_name": "LayoutView",
            "align_content": null,
            "align_items": null,
            "align_self": null,
            "border": null,
            "bottom": null,
            "display": null,
            "flex": null,
            "flex_flow": null,
            "grid_area": null,
            "grid_auto_columns": null,
            "grid_auto_flow": null,
            "grid_auto_rows": null,
            "grid_column": null,
            "grid_gap": null,
            "grid_row": null,
            "grid_template_areas": null,
            "grid_template_columns": null,
            "grid_template_rows": null,
            "height": null,
            "justify_content": null,
            "justify_items": null,
            "left": null,
            "margin": null,
            "max_height": null,
            "max_width": null,
            "min_height": null,
            "min_width": null,
            "object_fit": null,
            "object_position": null,
            "order": null,
            "overflow": null,
            "overflow_x": null,
            "overflow_y": null,
            "padding": null,
            "right": null,
            "top": null,
            "visibility": null,
            "width": null
          }
        },
        "8c1b00c005c8424f9807be620a5fe244": {
          "model_module": "@jupyter-widgets/controls",
          "model_name": "ProgressStyleModel",
          "model_module_version": "1.5.0",
          "state": {
            "_model_module": "@jupyter-widgets/controls",
            "_model_module_version": "1.5.0",
            "_model_name": "ProgressStyleModel",
            "_view_count": null,
            "_view_module": "@jupyter-widgets/base",
            "_view_module_version": "1.2.0",
            "_view_name": "StyleView",
            "bar_color": null,
            "description_width": ""
          }
        },
        "ef0fd4364617431aa662712ddaf7db4c": {
          "model_module": "@jupyter-widgets/base",
          "model_name": "LayoutModel",
          "model_module_version": "1.2.0",
          "state": {
            "_model_module": "@jupyter-widgets/base",
            "_model_module_version": "1.2.0",
            "_model_name": "LayoutModel",
            "_view_count": null,
            "_view_module": "@jupyter-widgets/base",
            "_view_module_version": "1.2.0",
            "_view_name": "LayoutView",
            "align_content": null,
            "align_items": null,
            "align_self": null,
            "border": null,
            "bottom": null,
            "display": null,
            "flex": null,
            "flex_flow": null,
            "grid_area": null,
            "grid_auto_columns": null,
            "grid_auto_flow": null,
            "grid_auto_rows": null,
            "grid_column": null,
            "grid_gap": null,
            "grid_row": null,
            "grid_template_areas": null,
            "grid_template_columns": null,
            "grid_template_rows": null,
            "height": null,
            "justify_content": null,
            "justify_items": null,
            "left": null,
            "margin": null,
            "max_height": null,
            "max_width": null,
            "min_height": null,
            "min_width": null,
            "object_fit": null,
            "object_position": null,
            "order": null,
            "overflow": null,
            "overflow_x": null,
            "overflow_y": null,
            "padding": null,
            "right": null,
            "top": null,
            "visibility": null,
            "width": null
          }
        },
        "ac5fe798339f4d25ae6c0460ab7f326e": {
          "model_module": "@jupyter-widgets/controls",
          "model_name": "DescriptionStyleModel",
          "model_module_version": "1.5.0",
          "state": {
            "_model_module": "@jupyter-widgets/controls",
            "_model_module_version": "1.5.0",
            "_model_name": "DescriptionStyleModel",
            "_view_count": null,
            "_view_module": "@jupyter-widgets/base",
            "_view_module_version": "1.2.0",
            "_view_name": "StyleView",
            "description_width": ""
          }
        }
      }
    }
  },
  "cells": [
    {
      "cell_type": "code",
      "source": [
        "from google.colab import drive\n",
        "drive.mount('/content/drive')"
      ],
      "metadata": {
        "colab": {
          "base_uri": "https://localhost:8080/"
        },
        "id": "dWeVFzJQd_Li",
        "outputId": "5e2efb30-a48b-4f7a-c4e1-493dbc338723"
      },
      "execution_count": null,
      "outputs": [
        {
          "output_type": "stream",
          "name": "stdout",
          "text": [
            "Mounted at /content/drive\n"
          ]
        }
      ]
    },
    {
      "cell_type": "code",
      "source": [
        "import sys\n",
        "import os\n",
        "\n",
        "path = \"/content/drive/MyDrive/NLP_Project_New\"\n",
        "sys.path.append(os.path.abspath(path))"
      ],
      "metadata": {
        "id": "0ouWEHj4eAvf"
      },
      "execution_count": null,
      "outputs": []
    },
    {
      "cell_type": "code",
      "source": [
        "import nlp_project_functions as functions\n",
        "\n",
        "from transformers import BertTokenizerFast\n",
        "from transformers import AutoModelForTokenClassification\n",
        "from transformers import pipeline\n",
        "\n",
        "import pandas as pd\n",
        "import math\n",
        "\n",
        "from datetime import datetime\n",
        "import os.path\n",
        "\n",
        "import logging\n",
        "\n",
        "logfile = f\"{path}/logs/run_model.log\"\n",
        "formatter = logging.Formatter('%(asctime)s - %(name)s - %(levelname)s - %(message)s')\n",
        "\n",
        "file_handler = logging.FileHandler(logfile)\n",
        "file_handler.setFormatter(formatter)\n",
        "file_handler.setLevel(logging.INFO)\n",
        "\n",
        "stream_handler = logging.StreamHandler()\n",
        "stream_handler.setFormatter(formatter)\n",
        "stream_handler.setLevel(logging.INFO)\n",
        "\n",
        "logger = logging.getLogger(\"run_model.log\")\n",
        "logger.setLevel(logging.INFO)\n",
        "\n",
        "logger.addHandler(file_handler)\n",
        "logger.addHandler(stream_handler)"
      ],
      "metadata": {
        "id": "Zy1hut4qeCYd"
      },
      "execution_count": null,
      "outputs": []
    },
    {
      "cell_type": "code",
      "source": [
        "def create_checksum(df):\n",
        "    test_string = \"\"\n",
        "    for i in range(5):\n",
        "        if isinstance(df.iloc[i][\"TOKEN\"], str):\n",
        "            test_string += df.iloc[i][\"TOKEN\"]\n",
        "\n",
        "    for i in range(len(df) - 5, len(df)):\n",
        "        if isinstance(df.iloc[i][\"TOKEN\"], str):\n",
        "            test_string += df.iloc[i][\"TOKEN\"]\n",
        "\n",
        "    return test_string"
      ],
      "metadata": {
        "id": "zyQuBlpxn1B7"
      },
      "execution_count": null,
      "outputs": []
    },
    {
      "cell_type": "code",
      "source": [
        "label_transl = {\"LABEL_0\": \"PER\", \"LABEL_1\": \"LOC\", \"O\": \"O\", \"_\": \"\"}"
      ],
      "metadata": {
        "id": "UiVDfSMbAvi4"
      },
      "execution_count": null,
      "outputs": []
    },
    {
      "cell_type": "code",
      "source": [
        "comparison_path = f'{path}/model_comparisons/smaller_test-predictions_comparison_new.tsv'"
      ],
      "metadata": {
        "id": "Lm-B7IamTdQF"
      },
      "execution_count": null,
      "outputs": []
    },
    {
      "cell_type": "code",
      "source": [
        "# get current date, time, and model\n",
        "now = datetime.now()\n",
        "timestamp = now.strftime(\"%m-%d-%H-%M-%S\")\n",
        "day = now.strftime(\"%d-%m\")"
      ],
      "metadata": {
        "id": "wOBPJOw5STk4"
      },
      "execution_count": null,
      "outputs": []
    },
    {
      "cell_type": "code",
      "source": [
        "# tokenize\n",
        "tokenizer = BertTokenizerFast.from_pretrained(\"dbmdz/bert-base-german-cased\")"
      ],
      "metadata": {
        "id": "O5L9jKQ5SvV9",
        "colab": {
          "base_uri": "https://localhost:8080/",
          "height": 243,
          "referenced_widgets": [
            "de793962cdfe49bfbab5fcb653a4d842",
            "4eb5b0f233d74877aa1c6106c2ab15ab",
            "27f52f5dda9d4a5cb17e0cb33cfc9e47",
            "63e09332dfea4325b5074f47beb3b45a",
            "9794ce6b98824179904a105937fbb198",
            "478e27e71f6d46838634b4017f1cdd02",
            "5221b0b1b0c2403aae8e8c0f8282f258",
            "c95366e44098434f8787db4523b9e000",
            "49074202f2764c439b098d6aede88bf4",
            "93982662faa94126a831e914f86919b1",
            "9edcf78d43d445ac900b59a49915a455",
            "09e15cd2124c48a88fc08c157c64693a",
            "bd49f2ad1ac14cf6b939d5850785a30b",
            "38ff1aadae244ddfa8570895309804f5",
            "a9f57215685f4e37b86a0b746e104bd5",
            "b65190d522154f7fbab98e34fa3c302f",
            "b319944f042a4945a81f3dcc02f1b8f6",
            "671caf0bee614d30a54c5097bcce4461",
            "2204d79c9b1a4332afed37d6069504a7",
            "c2f8b09cf62a4380b2edf54dbe32d2c4",
            "734697f8bc454361a90c1069b1a5d6c4",
            "7e5766b05c124832a0ae7f3e4672ea1d",
            "40f7ed0aca3648039e03d0907dd90801",
            "f8b85809521741acab887da59205def3",
            "9f28968b291945f7a693332d73b4060d",
            "7ea9a5b26a5643f99cd2dd20460ba3b1",
            "d2301165dc1341b8b8b459a1b900204c",
            "0b430a5008dc47c38d806e24d6b3f996",
            "d82da82068ed4bd7bdbcf55cfc6a31ac",
            "49937d689aef4760af03536f898e46e1",
            "8c1b00c005c8424f9807be620a5fe244",
            "ef0fd4364617431aa662712ddaf7db4c",
            "ac5fe798339f4d25ae6c0460ab7f326e"
          ]
        },
        "outputId": "e7bdd4f4-eb19-4a06-e58d-9b236eac9387"
      },
      "execution_count": null,
      "outputs": [
        {
          "output_type": "stream",
          "name": "stderr",
          "text": [
            "/usr/local/lib/python3.10/dist-packages/huggingface_hub/utils/_token.py:88: UserWarning: \n",
            "The secret `HF_TOKEN` does not exist in your Colab secrets.\n",
            "To authenticate with the Hugging Face Hub, create a token in your settings tab (https://huggingface.co/settings/tokens), set it as secret in your Google Colab and restart your session.\n",
            "You will be able to reuse this secret in all of your notebooks.\n",
            "Please note that authentication is recommended but still optional to access public models or datasets.\n",
            "  warnings.warn(\n"
          ]
        },
        {
          "output_type": "display_data",
          "data": {
            "text/plain": [
              "tokenizer_config.json:   0%|          | 0.00/59.0 [00:00<?, ?B/s]"
            ],
            "application/vnd.jupyter.widget-view+json": {
              "version_major": 2,
              "version_minor": 0,
              "model_id": "de793962cdfe49bfbab5fcb653a4d842"
            }
          },
          "metadata": {}
        },
        {
          "output_type": "display_data",
          "data": {
            "text/plain": [
              "vocab.txt:   0%|          | 0.00/240k [00:00<?, ?B/s]"
            ],
            "application/vnd.jupyter.widget-view+json": {
              "version_major": 2,
              "version_minor": 0,
              "model_id": "09e15cd2124c48a88fc08c157c64693a"
            }
          },
          "metadata": {}
        },
        {
          "output_type": "display_data",
          "data": {
            "text/plain": [
              "config.json:   0%|          | 0.00/456 [00:00<?, ?B/s]"
            ],
            "application/vnd.jupyter.widget-view+json": {
              "version_major": 2,
              "version_minor": 0,
              "model_id": "40f7ed0aca3648039e03d0907dd90801"
            }
          },
          "metadata": {}
        }
      ]
    },
    {
      "cell_type": "code",
      "source": [
        "test_texts, test_labels = functions.read_conll_data('/content/drive/MyDrive/NLP_Project_New/data/train_test_val/test.tsv')"
      ],
      "metadata": {
        "id": "Ucxo9drFwsSB"
      },
      "execution_count": null,
      "outputs": []
    },
    {
      "cell_type": "code",
      "source": [
        "for i in [2, 4, 8, 16, 32, 64]:\n",
        "  print(f\"Working on slice {i}\")\n",
        "  model_checkpoint = f\"{path}/models/bert_finetuned_{i}_part\"\n",
        "\n",
        "  attempt = model_checkpoint + '--' + timestamp\n",
        "\n",
        "  logger.info(f\"Initiated model test. Attempt: {attempt}\")\n",
        "\n",
        "  model = AutoModelForTokenClassification.from_pretrained(model_checkpoint)\n",
        "\n",
        "  token_classifier = pipeline(\n",
        "    \"token-classification\", model=model, tokenizer=tokenizer, aggregation_strategy=\"first\"\n",
        "  )\n",
        "\n",
        "  all_sentences = []\n",
        "\n",
        "  for text in test_texts:\n",
        "    sentence = \" \".join(text)\n",
        "    all_sentences.append(sentence)\n",
        "\n",
        "  all_predictions = []\n",
        "\n",
        "  for sentence in all_sentences:\n",
        "    prediction = token_classifier(sentence)\n",
        "    all_predictions.append(prediction)\n",
        "\n",
        "  tokens = []\n",
        "  labels = []\n",
        "  predictions = []\n",
        "  for text, prediction, labels_list in zip(all_sentences, all_predictions, test_labels):\n",
        "    word_list, prediction_list = functions.list_transformer_results(text, prediction)\n",
        "    tokens.extend(word_list)\n",
        "    tokens.append(\"\")\n",
        "    labels.extend(labels_list)\n",
        "    labels.append(\"\")\n",
        "    predictions.extend(prediction_list)\n",
        "    predictions.append(\"_\")\n",
        "\n",
        "  label_vocab = set(predictions)\n",
        "\n",
        "  if \"PER\" not in label_vocab:\n",
        "    predictions = [label_transl[item] for item in predictions]\n",
        "  else:\n",
        "    predictions = [item.replace('_', '') for item in predictions]\n",
        "\n",
        "\n",
        "  predictions = functions.transform_to_BIO(predictions)\n",
        "\n",
        "  prediction_comparison = pd.DataFrame(\n",
        "    {\"TOKEN\": tokens,\n",
        "     \"NER\": labels,\n",
        "     attempt: predictions\n",
        "     })\n",
        "\n",
        "  pred_checksum = create_checksum(prediction_comparison)\n",
        "\n",
        "  if os.path.isfile(comparison_path):\n",
        "    pred_comp_df = pd.read_csv(comparison_path, sep='\\t')\n",
        "    file_checksum = create_checksum(pred_comp_df)\n",
        "    if file_checksum == pred_checksum:\n",
        "        pred_comp_df[attempt] = predictions\n",
        "        pred_comp_df.to_csv(comparison_path, sep='\\t', index=False)\n",
        "        logger.info(\"The predictions were added to the predictions table.\")\n",
        "    else:\n",
        "        logger.error(\"The checksums for the loaded test data and the predictions table do not match. Maybe the train/test/dev split has changed?\")\n",
        "        raise Exception(\"The checksums for the loaded test data and the predictions table do not match. Maybe the train/test/dev split has changed?\")\n",
        "  else:\n",
        "      prediction_comparison.to_csv(comparison_path, sep='\\t', index=False)\n",
        "      logger.info(f\"No predictions table was found at location {comparison_path}, so a new one was created.\")\n"
      ],
      "metadata": {
        "id": "o01Kh4dQSHkC",
        "colab": {
          "base_uri": "https://localhost:8080/"
        },
        "outputId": "6ccbb760-be67-4a59-9cb6-bf883fa0aff9"
      },
      "execution_count": null,
      "outputs": [
        {
          "output_type": "stream",
          "name": "stderr",
          "text": [
            "2024-03-27 17:34:08,199 - run_model.log - INFO - Initiated model test. Attempt: /content/drive/MyDrive/NLP_Project_New/models/bert_finetuned_2_part--03-27-17-33-57\n",
            "INFO:run_model.log:Initiated model test. Attempt: /content/drive/MyDrive/NLP_Project_New/models/bert_finetuned_2_part--03-27-17-33-57\n"
          ]
        },
        {
          "output_type": "stream",
          "name": "stdout",
          "text": [
            "Working on slice 2\n"
          ]
        },
        {
          "output_type": "stream",
          "name": "stderr",
          "text": [
            "2024-03-27 17:43:14,198 - run_model.log - INFO - No predictions table was found at location /content/drive/MyDrive/NLP_Project_New/model_comparisons/smaller_test-predictions_comparison_new.tsv, so a new one was created.\n",
            "INFO:run_model.log:No predictions table was found at location /content/drive/MyDrive/NLP_Project_New/model_comparisons/smaller_test-predictions_comparison_new.tsv, so a new one was created.\n",
            "2024-03-27 17:43:14,204 - run_model.log - INFO - Initiated model test. Attempt: /content/drive/MyDrive/NLP_Project_New/models/bert_finetuned_4_part--03-27-17-33-57\n",
            "INFO:run_model.log:Initiated model test. Attempt: /content/drive/MyDrive/NLP_Project_New/models/bert_finetuned_4_part--03-27-17-33-57\n"
          ]
        },
        {
          "output_type": "stream",
          "name": "stdout",
          "text": [
            "Working on slice 4\n"
          ]
        },
        {
          "output_type": "stream",
          "name": "stderr",
          "text": [
            "2024-03-27 17:50:58,329 - run_model.log - INFO - The predictions were added to the predictions table.\n",
            "INFO:run_model.log:The predictions were added to the predictions table.\n",
            "2024-03-27 17:50:58,332 - run_model.log - INFO - Initiated model test. Attempt: /content/drive/MyDrive/NLP_Project_New/models/bert_finetuned_8_part--03-27-17-33-57\n",
            "INFO:run_model.log:Initiated model test. Attempt: /content/drive/MyDrive/NLP_Project_New/models/bert_finetuned_8_part--03-27-17-33-57\n"
          ]
        },
        {
          "output_type": "stream",
          "name": "stdout",
          "text": [
            "Working on slice 8\n"
          ]
        },
        {
          "output_type": "stream",
          "name": "stderr",
          "text": [
            "2024-03-27 17:58:25,370 - run_model.log - INFO - The predictions were added to the predictions table.\n",
            "INFO:run_model.log:The predictions were added to the predictions table.\n",
            "2024-03-27 17:58:25,374 - run_model.log - INFO - Initiated model test. Attempt: /content/drive/MyDrive/NLP_Project_New/models/bert_finetuned_16_part--03-27-17-33-57\n",
            "INFO:run_model.log:Initiated model test. Attempt: /content/drive/MyDrive/NLP_Project_New/models/bert_finetuned_16_part--03-27-17-33-57\n"
          ]
        },
        {
          "output_type": "stream",
          "name": "stdout",
          "text": [
            "Working on slice 16\n"
          ]
        },
        {
          "output_type": "stream",
          "name": "stderr",
          "text": [
            "2024-03-27 18:05:29,464 - run_model.log - INFO - The predictions were added to the predictions table.\n",
            "INFO:run_model.log:The predictions were added to the predictions table.\n",
            "2024-03-27 18:05:29,469 - run_model.log - INFO - Initiated model test. Attempt: /content/drive/MyDrive/NLP_Project_New/models/bert_finetuned_32_part--03-27-17-33-57\n",
            "INFO:run_model.log:Initiated model test. Attempt: /content/drive/MyDrive/NLP_Project_New/models/bert_finetuned_32_part--03-27-17-33-57\n"
          ]
        },
        {
          "output_type": "stream",
          "name": "stdout",
          "text": [
            "Working on slice 32\n"
          ]
        },
        {
          "output_type": "stream",
          "name": "stderr",
          "text": [
            "2024-03-27 18:12:25,694 - run_model.log - INFO - The predictions were added to the predictions table.\n",
            "INFO:run_model.log:The predictions were added to the predictions table.\n",
            "2024-03-27 18:12:25,698 - run_model.log - INFO - Initiated model test. Attempt: /content/drive/MyDrive/NLP_Project_New/models/bert_finetuned_64_part--03-27-17-33-57\n",
            "INFO:run_model.log:Initiated model test. Attempt: /content/drive/MyDrive/NLP_Project_New/models/bert_finetuned_64_part--03-27-17-33-57\n"
          ]
        },
        {
          "output_type": "stream",
          "name": "stdout",
          "text": [
            "Working on slice 64\n"
          ]
        },
        {
          "output_type": "stream",
          "name": "stderr",
          "text": [
            "2024-03-27 18:19:26,746 - run_model.log - INFO - The predictions were added to the predictions table.\n",
            "INFO:run_model.log:The predictions were added to the predictions table.\n"
          ]
        }
      ]
    }
  ]
}