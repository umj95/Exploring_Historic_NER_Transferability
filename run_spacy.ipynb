{
 "cells": [
  {
   "cell_type": "code",
   "execution_count": 21,
   "metadata": {},
   "outputs": [],
   "source": [
    "import spacy\n",
    "import pandas as pd\n",
    "import math\n",
    "\n",
    "from datetime import datetime\n",
    "import os.path\n",
    "\n",
    "import nlp_project_functions as functions\n",
    "\n",
    "import logging\n",
    "\n",
    "logfile = \"./logs/run_model.log\"\n",
    "formatter = logging.Formatter('%(asctime)s - %(name)s - %(levelname)s - %(message)s')\n",
    "\n",
    "file_handler = logging.FileHandler(logfile)\n",
    "file_handler.setFormatter(formatter)\n",
    "file_handler.setLevel(logging.INFO)\n",
    "\n",
    "stream_handler = logging.StreamHandler()\n",
    "stream_handler.setFormatter(formatter)\n",
    "stream_handler.setLevel(logging.INFO)\n",
    "\n",
    "logger = logging.getLogger(\"run_model.log\")\n",
    "logger.setLevel(logging.INFO)\n",
    "\n",
    "logger.addHandler(file_handler)\n",
    "logger.addHandler(stream_handler)"
   ]
  },
  {
   "cell_type": "code",
   "execution_count": 23,
   "metadata": {},
   "outputs": [
    {
     "name": "stderr",
     "output_type": "stream",
     "text": [
      "2024-03-21 19:33:30,462 - run_model.log - INFO - Initiated model test. Attempt: models/bert_tuned_4e--03-21-19-33-30\n",
      "2024-03-21 19:33:30,462 - run_model.log - INFO - Initiated model test. Attempt: models/bert_tuned_4e--03-21-19-33-30\n"
     ]
    }
   ],
   "source": [
    "# get current date, time, and model\n",
    "now = datetime.now()\n",
    "timestamp = now.strftime(\"%m-%d-%H-%M-%S\")\n",
    "day = now.strftime(\"%d-%m\")\n",
    "\n",
    "model = \"models/bert_tuned_4e\"\n",
    "attempt = model + '--' + timestamp\n",
    "\n",
    "logger.info(f\"Initiated model test. Attempt: {attempt}\")"
   ]
  },
  {
   "cell_type": "code",
   "execution_count": null,
   "metadata": {},
   "outputs": [],
   "source": [
    "try:\n",
    "    nlp = spacy.load(model)\n",
    "except OSError:\n",
    "    logger.exception('')"
   ]
  },
  {
   "cell_type": "code",
   "execution_count": 5,
   "metadata": {},
   "outputs": [],
   "source": [
    "def create_checksum(df):\n",
    "    test_string = \"\"\n",
    "    for i in range(5):\n",
    "        if isinstance(df.iloc[i][\"TOKEN\"], str):\n",
    "            test_string += df.iloc[i][\"TOKEN\"]\n",
    "\n",
    "    for i in range(len(df) - 5, len(df)):\n",
    "        if isinstance(df.iloc[i][\"TOKEN\"], str):\n",
    "            test_string += df.iloc[i][\"TOKEN\"]\n",
    "\n",
    "    return test_string"
   ]
  },
  {
   "cell_type": "code",
   "execution_count": 6,
   "metadata": {},
   "outputs": [
    {
     "name": "stderr",
     "output_type": "stream",
     "text": [
      "2024-03-21 19:11:29,815 - run_model.log - INFO - Loaded test file from location ./data/train_test_val/test.tsv. Size: 280,975 tokens.\n"
     ]
    }
   ],
   "source": [
    "path_to_testfile = './data/train_test_val/test.tsv'\n",
    "df = pd.read_csv(path_to_testfile, sep='\\t', skip_blank_lines=False, names=[\"TOKEN\", \"NER\"])\n",
    "\n",
    "df_checksum = create_checksum(df)\n",
    "\n",
    "tokens = df['TOKEN'].tolist()\n",
    "sentences = functions.make_sentences(tokens)\n",
    "\n",
    "logger.info(f\"Loaded test file from location {path_to_testfile}. Size: {len(df):,} tokens.\")"
   ]
  },
  {
   "cell_type": "code",
   "execution_count": 7,
   "metadata": {},
   "outputs": [],
   "source": [
    "spacy_predictions = []\n",
    "\n",
    "for sentence in sentences:\n",
    "    doc = nlp(sentence)\n",
    "    for token in doc:\n",
    "        if token.text != \".\" and token.text[-1] == \".\":\n",
    "            if token.ent_type_ in ['LOC', 'PER']:\n",
    "                spacy_predictions.append([token.text[:-1], token.ent_type_])\n",
    "                spacy_predictions.append([\".\", \"O\"])\n",
    "            else:\n",
    "                spacy_predictions.append([token.text[:-1], \"O\"])\n",
    "                spacy_predictions.append([\".\", \".\"])\n",
    "        elif token.text != \" \":\n",
    "            if token.ent_type_ in ['LOC', 'PER']:\n",
    "                spacy_predictions.append([token.text, token.ent_type_])\n",
    "            else:\n",
    "                spacy_predictions.append([token.text, \"O\"])\n",
    "    spacy_predictions.append([math.nan, math.nan])\n",
    "\n",
    "spacy_predictions = spacy_predictions[:-1]"
   ]
  },
  {
   "cell_type": "code",
   "execution_count": 8,
   "metadata": {},
   "outputs": [],
   "source": [
    "spacy_df = pd.DataFrame(spacy_predictions, columns=[\"TOKEN\", \"NE\"])\n",
    "if len(spacy_df) != len(df):\n",
    "    logger.error(f\"test tokens and spacy predictions don't align (test tokens: {len(df):,}, spacy predictions: {len(spacy_df):,})\"\"\")"
   ]
  },
  {
   "cell_type": "code",
   "execution_count": 9,
   "metadata": {},
   "outputs": [],
   "source": [
    "spacy_predictions = spacy_df[\"NE\"].values.tolist()\n",
    "spacy_predictions_bio = functions.transform_to_BIO(spacy_predictions)"
   ]
  },
  {
   "cell_type": "code",
   "execution_count": 10,
   "metadata": {},
   "outputs": [
    {
     "name": "stderr",
     "output_type": "stream",
     "text": [
      "2024-03-21 19:19:25,247 - run_model.log - INFO - The predictions were added to the predictions table.\n"
     ]
    }
   ],
   "source": [
    "path = './model_comparisons/test-predictions_comparison.tsv'\n",
    "\n",
    "if os.path.isfile(path):\n",
    "    pred_comp_df = pd.read_csv(path, sep='\\t')\n",
    "    file_checksum = create_checksum(pred_comp_df)\n",
    "    if file_checksum == df_checksum:\n",
    "        pred_comp_df[attempt] = spacy_predictions_bio\n",
    "        pred_comp_df.to_csv(path, sep='\\t', index=False)\n",
    "        logger.info(\"The predictions were added to the predictions table.\")\n",
    "    else:\n",
    "        logger.error(\"The checksums for the loaded test data and the predictions table do not match. Maybe the train/test/dev split has changed?\")\n",
    "        raise Exception(\"The checksums for the loaded test data and the predictions table do not match. Maybe the train/test/dev split has changed?\")\n",
    "else:\n",
    "    pred_comp_df = df.copy()\n",
    "    pred_comp_df[attempt] = spacy_predictions_bio\n",
    "    pred_comp_df.to_csv(path, sep='\\t', index=False)\n",
    "    logger.info(f\"No predictions table was found at location {path}, so a new one was created.\")"
   ]
  },
  {
   "cell_type": "code",
   "execution_count": 18,
   "metadata": {},
   "outputs": [
    {
     "data": {
      "text/html": [
       "<div>\n",
       "<style scoped>\n",
       "    .dataframe tbody tr th:only-of-type {\n",
       "        vertical-align: middle;\n",
       "    }\n",
       "\n",
       "    .dataframe tbody tr th {\n",
       "        vertical-align: top;\n",
       "    }\n",
       "\n",
       "    .dataframe thead th {\n",
       "        text-align: right;\n",
       "    }\n",
       "</style>\n",
       "<table border=\"1\" class=\"dataframe\">\n",
       "  <thead>\n",
       "    <tr style=\"text-align: right;\">\n",
       "      <th></th>\n",
       "      <th>TOKEN</th>\n",
       "      <th>NER</th>\n",
       "      <th>models/sermons_30it--03-11-19-06-36</th>\n",
       "      <th>models/sermons_60it--03-13-15-28-41</th>\n",
       "      <th>de_dep_news_trf--03-21-19-11-10</th>\n",
       "    </tr>\n",
       "  </thead>\n",
       "  <tbody>\n",
       "    <tr>\n",
       "      <th>0</th>\n",
       "      <td>Einweihungs</td>\n",
       "      <td>O</td>\n",
       "      <td>O</td>\n",
       "      <td>O</td>\n",
       "      <td>O</td>\n",
       "    </tr>\n",
       "    <tr>\n",
       "      <th>1</th>\n",
       "      <td>Predigt</td>\n",
       "      <td>O</td>\n",
       "      <td>O</td>\n",
       "      <td>O</td>\n",
       "      <td>O</td>\n",
       "    </tr>\n",
       "    <tr>\n",
       "      <th>2</th>\n",
       "      <td>Der</td>\n",
       "      <td>O</td>\n",
       "      <td>O</td>\n",
       "      <td>O</td>\n",
       "      <td>O</td>\n",
       "    </tr>\n",
       "    <tr>\n",
       "      <th>3</th>\n",
       "      <td>Neuen</td>\n",
       "      <td>O</td>\n",
       "      <td>O</td>\n",
       "      <td>O</td>\n",
       "      <td>O</td>\n",
       "    </tr>\n",
       "    <tr>\n",
       "      <th>4</th>\n",
       "      <td>Orgel</td>\n",
       "      <td>O</td>\n",
       "      <td>O</td>\n",
       "      <td>O</td>\n",
       "      <td>O</td>\n",
       "    </tr>\n",
       "  </tbody>\n",
       "</table>\n",
       "</div>"
      ],
      "text/plain": [
       "         TOKEN NER models/sermons_30it--03-11-19-06-36  \\\n",
       "0  Einweihungs   O                                   O   \n",
       "1      Predigt   O                                   O   \n",
       "2          Der   O                                   O   \n",
       "3        Neuen   O                                   O   \n",
       "4        Orgel   O                                   O   \n",
       "\n",
       "  models/sermons_60it--03-13-15-28-41 de_dep_news_trf--03-21-19-11-10  \n",
       "0                                   O                               O  \n",
       "1                                   O                               O  \n",
       "2                                   O                               O  \n",
       "3                                   O                               O  \n",
       "4                                   O                               O  "
      ]
     },
     "execution_count": 18,
     "metadata": {},
     "output_type": "execute_result"
    }
   ],
   "source": [
    "pred_comp_df.head()"
   ]
  }
 ],
 "metadata": {
  "kernelspec": {
   "display_name": "Python 3",
   "language": "python",
   "name": "python3"
  },
  "language_info": {
   "codemirror_mode": {
    "name": "ipython",
    "version": 3
   },
   "file_extension": ".py",
   "mimetype": "text/x-python",
   "name": "python",
   "nbconvert_exporter": "python",
   "pygments_lexer": "ipython3",
   "version": "3.9.7"
  }
 },
 "nbformat": 4,
 "nbformat_minor": 2
}
