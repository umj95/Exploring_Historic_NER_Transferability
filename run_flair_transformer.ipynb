{
  "cells": [
    {
      "cell_type": "code",
      "execution_count": null,
      "metadata": {
        "colab": {
          "base_uri": "https://localhost:8080/"
        },
        "id": "L1iswxttGWnB",
        "outputId": "7a5e9203-edea-4b7c-9f80-9e2998a83a14"
      },
      "outputs": [],
      "source": [
        "!pip install -U flair"
      ]
    },
    {
      "cell_type": "code",
      "execution_count": null,
      "metadata": {
        "colab": {
          "base_uri": "https://localhost:8080/"
        },
        "id": "RtIP1Om9F930",
        "outputId": "6d745ff2-b68a-49b7-a2d0-2668bbc111f6"
      },
      "outputs": [
        {
          "name": "stdout",
          "output_type": "stream",
          "text": [
            "Mounted at /content/drive\n"
          ]
        }
      ],
      "source": [
        "from google.colab import drive\n",
        "drive.mount('/content/drive')"
      ]
    },
    {
      "cell_type": "code",
      "execution_count": null,
      "metadata": {
        "id": "dHyhg_msGMGi"
      },
      "outputs": [],
      "source": [
        "import sys\n",
        "import os\n",
        "\n",
        "path = \"/content/drive/MyDrive/NLP_Project_New\"\n",
        "sys.path.append(os.path.abspath(path))"
      ]
    },
    {
      "cell_type": "code",
      "execution_count": null,
      "metadata": {
        "id": "pfHivTdXGTGr"
      },
      "outputs": [],
      "source": [
        "import nlp_project_functions as functions\n",
        "\n",
        "from flair.data import Sentence\n",
        "from flair.models import SequenceTagger\n",
        "\n",
        "import pandas as pd\n",
        "import math\n",
        "\n",
        "from datetime import datetime\n",
        "import os.path\n",
        "\n",
        "import logging\n",
        "\n",
        "logfile = f\"{path}/logs/run_model.log\"\n",
        "formatter = logging.Formatter('%(asctime)s - %(name)s - %(levelname)s - %(message)s')\n",
        "\n",
        "file_handler = logging.FileHandler(logfile)\n",
        "file_handler.setFormatter(formatter)\n",
        "file_handler.setLevel(logging.INFO)\n",
        "\n",
        "stream_handler = logging.StreamHandler()\n",
        "stream_handler.setFormatter(formatter)\n",
        "stream_handler.setLevel(logging.INFO)\n",
        "\n",
        "logger = logging.getLogger(\"run_model.log\")\n",
        "logger.setLevel(logging.INFO)\n",
        "\n",
        "logger.addHandler(file_handler)\n",
        "logger.addHandler(stream_handler)"
      ]
    },
    {
      "cell_type": "code",
      "execution_count": null,
      "metadata": {
        "colab": {
          "base_uri": "https://localhost:8080/"
        },
        "id": "S81I1tE_G17U",
        "outputId": "90e311ca-5f7c-41ab-c8f9-3864a6aefc63"
      },
      "outputs": [
        {
          "name": "stderr",
          "output_type": "stream",
          "text": [
            "2024-03-25 09:14:23,360 - run_model.log - INFO - Initiated model test. Attempt: dbmdz/flair-historic-ner-onb--03-25-09-14-23\n",
            "INFO:run_model.log:Initiated model test. Attempt: dbmdz/flair-historic-ner-onb--03-25-09-14-23\n"
          ]
        }
      ],
      "source": [
        "# get current date, time, and model\n",
        "now = datetime.now()\n",
        "timestamp = now.strftime(\"%m-%d-%H-%M-%S\")\n",
        "day = now.strftime(\"%d-%m\")\n",
        "\n",
        "model_name = \"dbmdz/flair-historic-ner-onb\"\n",
        "\n",
        "model_checkpoint = model_name\n",
        "attempt = model_name + '--' + timestamp\n",
        "\n",
        "logger.info(f\"Initiated model test. Attempt: {attempt}\")"
      ]
    },
    {
      "cell_type": "code",
      "execution_count": null,
      "metadata": {
        "id": "4Ep1gxOBG3Dt"
      },
      "outputs": [],
      "source": [
        "def create_checksum(df):\n",
        "    test_string = \"\"\n",
        "    for i in range(5):\n",
        "        if isinstance(df.iloc[i][\"TOKEN\"], str):\n",
        "            test_string += df.iloc[i][\"TOKEN\"]\n",
        "\n",
        "    for i in range(len(df) - 5, len(df)):\n",
        "        if isinstance(df.iloc[i][\"TOKEN\"], str):\n",
        "            test_string += df.iloc[i][\"TOKEN\"]\n",
        "\n",
        "    return test_string"
      ]
    },
    {
      "cell_type": "code",
      "execution_count": null,
      "metadata": {
        "colab": {
          "base_uri": "https://localhost:8080/",
          "height": 178,
          "referenced_widgets": [
            "f222cdefd9384d5fb0714828e98557c2",
            "b3205ac2f27b402eb4329af62dbbc9f0",
            "8676de0fe0a6444f959e15b9403a5302",
            "bf813153e1e2474990f49723d67c4130",
            "d4d94f1fbe674a8aada1ff8dade444a8",
            "00bc674708eb43bcac26a43a0fe5f7fc",
            "b9f0ab2262c74c02ba9439549ede0a03",
            "988e2cc9e21d4ef6a3ea91c3f3c4a76b",
            "404213edf81c456488d2fab58a949f49",
            "ce104dfe099846b7a835e712af5093e8",
            "89418ae86a6344f886829a299f7bda3f"
          ]
        },
        "id": "CBxTCfOlHhxt",
        "outputId": "7be66eb5-1601-4407-a9e9-b09ef4635fbc"
      },
      "outputs": [],
      "source": [
        "tagger = SequenceTagger.load(\"dbmdz/flair-historic-ner-lft\")"
      ]
    },
    {
      "cell_type": "code",
      "execution_count": null,
      "metadata": {
        "id": "DtmmQXk5HqTC"
      },
      "outputs": [],
      "source": [
        "test_texts, test_labels = functions.read_conll_data('/content/drive/MyDrive/NLP_Project_New/data/train_test_val/test.tsv')"
      ]
    },
    {
      "cell_type": "code",
      "execution_count": null,
      "metadata": {
        "id": "ijbBzd0SHsgb"
      },
      "outputs": [],
      "source": [
        "all_sentences = []\n",
        "\n",
        "for text in test_texts:\n",
        "  sentence = \" \".join(text)\n",
        "  all_sentences.append(sentence)"
      ]
    },
    {
      "cell_type": "code",
      "execution_count": null,
      "metadata": {
        "colab": {
          "base_uri": "https://localhost:8080/"
        },
        "id": "DqNltjeWZIQR",
        "outputId": "47ea9be0-b466-4d06-b9c1-1948d4c9b54d"
      },
      "outputs": [
        {
          "data": {
            "text/plain": [
              "5859"
            ]
          },
          "execution_count": 11,
          "metadata": {},
          "output_type": "execute_result"
        }
      ],
      "source": [
        "len(all_sentences)"
      ]
    },
    {
      "cell_type": "code",
      "execution_count": null,
      "metadata": {
        "colab": {
          "base_uri": "https://localhost:8080/"
        },
        "id": "qAUJGSifHybU",
        "outputId": "591651c2-d336-4b7e-b9d9-93a4c0d47e6b"
      },
      "outputs": [
        {
          "name": "stdout",
          "output_type": "stream",
          "text": [
            "On prediction 0 (0.00% done).\n",
            "On prediction 100 (1000.00% done).\n",
            "On prediction 200 (2000.00% done).\n",
            "On prediction 300 (3000.00% done).\n",
            "On prediction 400 (4000.00% done).\n",
            "On prediction 500 (5000.00% done).\n",
            "On prediction 600 (6000.00% done).\n",
            "On prediction 700 (7000.00% done).\n",
            "On prediction 800 (8000.00% done).\n",
            "On prediction 900 (9000.00% done).\n",
            "On prediction 1000 (10000.00% done).\n",
            "On prediction 1100 (11000.00% done).\n",
            "On prediction 1200 (12000.00% done).\n",
            "On prediction 1300 (13000.00% done).\n",
            "On prediction 1400 (14000.00% done).\n",
            "On prediction 1500 (15000.00% done).\n",
            "On prediction 1600 (16000.00% done).\n",
            "On prediction 1700 (17000.00% done).\n",
            "On prediction 1800 (18000.00% done).\n",
            "On prediction 1900 (19000.00% done).\n",
            "On prediction 2000 (20000.00% done).\n",
            "On prediction 2100 (21000.00% done).\n",
            "On prediction 2200 (22000.00% done).\n",
            "On prediction 2300 (23000.00% done).\n",
            "On prediction 2400 (24000.00% done).\n",
            "On prediction 2500 (25000.00% done).\n",
            "On prediction 2600 (26000.00% done).\n",
            "On prediction 2700 (27000.00% done).\n",
            "On prediction 2800 (28000.00% done).\n",
            "On prediction 2900 (29000.00% done).\n",
            "On prediction 3000 (30000.00% done).\n",
            "On prediction 3100 (31000.00% done).\n",
            "On prediction 3200 (32000.00% done).\n",
            "On prediction 3300 (33000.00% done).\n",
            "On prediction 3400 (34000.00% done).\n",
            "On prediction 3500 (35000.00% done).\n",
            "On prediction 3600 (36000.00% done).\n",
            "On prediction 3700 (37000.00% done).\n",
            "On prediction 3800 (38000.00% done).\n",
            "On prediction 3900 (39000.00% done).\n",
            "On prediction 4000 (40000.00% done).\n",
            "On prediction 4100 (41000.00% done).\n",
            "On prediction 4200 (42000.00% done).\n",
            "On prediction 4300 (43000.00% done).\n",
            "On prediction 4400 (44000.00% done).\n",
            "On prediction 4500 (45000.00% done).\n",
            "On prediction 4600 (46000.00% done).\n",
            "On prediction 4700 (47000.00% done).\n",
            "On prediction 4800 (48000.00% done).\n",
            "On prediction 4900 (49000.00% done).\n",
            "On prediction 5000 (50000.00% done).\n",
            "On prediction 5100 (51000.00% done).\n",
            "On prediction 5200 (52000.00% done).\n",
            "On prediction 5300 (53000.00% done).\n",
            "On prediction 5400 (54000.00% done).\n",
            "On prediction 5500 (55000.00% done).\n",
            "On prediction 5600 (56000.00% done).\n",
            "On prediction 5700 (57000.00% done).\n",
            "On prediction 5800 (58000.00% done).\n"
          ]
        }
      ],
      "source": [
        "all_predictions = []\n",
        "total = len(all_sentences)\n",
        "for idx, item in enumerate(all_sentences):\n",
        "\n",
        "  if idx % 500 == 0:\n",
        "    print(f\"On prediction {idx} ({((idx/total)*100):.2f}% done).\")\n",
        "  sentence = Sentence(item)\n",
        "  tagger.predict(sentence)\n",
        "  entities = sentence.get_spans('ner')\n",
        "  if len(entities) > 0:\n",
        "    ent_list = []\n",
        "    for entity in entities:\n",
        "      ent_list.append(entity.to_dict())\n",
        "    all_predictions.append(ent_list)\n",
        "  else:\n",
        "    all_predictions.append([])"
      ]
    },
    {
      "cell_type": "code",
      "execution_count": null,
      "metadata": {
        "id": "dYYwXXBbLs78"
      },
      "outputs": [],
      "source": [
        "def list_flair_results(sentence: str, predictions: list) -> tuple:\n",
        "    words = sentence.split(\" \")\n",
        "    results = []\n",
        "\n",
        "    running_char = 0\n",
        "\n",
        "    for word in words:\n",
        "      found_match = next((d for d in predictions if d.get(\"start_pos\") == running_char), None)\n",
        "      if found_match:\n",
        "        results.append(found_match.get('labels')[0][\"value\"])\n",
        "      else:\n",
        "        results.append(\"O\")\n",
        "      running_char += len(word) + 1\n",
        "\n",
        "    return words, results"
      ]
    },
    {
      "cell_type": "code",
      "execution_count": null,
      "metadata": {
        "id": "71Cth3nJOO7Q"
      },
      "outputs": [],
      "source": [
        "label_transl = {\"LABEL_0\": \"PER\", \"LABEL_1\": \"LOC\", \"O\": \"O\", \"_\": \"\"}"
      ]
    },
    {
      "cell_type": "code",
      "execution_count": null,
      "metadata": {
        "id": "5msCVi-dM0L2"
      },
      "outputs": [],
      "source": [
        "tokens = []\n",
        "labels = []\n",
        "predictions = []\n",
        "for text, prediction, labels_list in zip(all_sentences, all_predictions, test_labels):\n",
        "  word_list, prediction_list = list_flair_results(text, prediction)\n",
        "  tokens.extend(word_list)\n",
        "  tokens.append(\"\")\n",
        "  labels.extend(labels_list)\n",
        "  labels.append(\"\")\n",
        "  predictions.extend(prediction_list)\n",
        "  predictions.append(\"_\")\n",
        "\n",
        "label_vocab = set(predictions)\n",
        "\n",
        "if \"PER\" not in label_vocab:\n",
        "  predictions = [label_transl[item] for item in predictions]\n",
        "else:\n",
        "  predictions = [item.replace('_', '') for item in predictions]\n",
        "\n",
        "\n",
        "predictions = functions.transform_to_BIO(predictions)"
      ]
    },
    {
      "cell_type": "code",
      "execution_count": null,
      "metadata": {
        "id": "t-8fxxoGNRqd"
      },
      "outputs": [],
      "source": [
        "prediction_comparison = pd.DataFrame(\n",
        "    {\"TOKEN\": tokens,\n",
        "     \"NER\": labels,\n",
        "     attempt: predictions\n",
        "     })"
      ]
    },
    {
      "cell_type": "code",
      "execution_count": null,
      "metadata": {
        "colab": {
          "base_uri": "https://localhost:8080/"
        },
        "id": "Mo91imZJNTtU",
        "outputId": "40b89c17-5395-4fd2-dc47-cbdabe623f6e"
      },
      "outputs": [
        {
          "data": {
            "text/plain": [
              "162909"
            ]
          },
          "execution_count": 20,
          "metadata": {},
          "output_type": "execute_result"
        }
      ],
      "source": [
        "len(prediction_comparison)"
      ]
    },
    {
      "cell_type": "code",
      "execution_count": null,
      "metadata": {
        "id": "d_bpMXXUfodX"
      },
      "outputs": [],
      "source": [
        "pred_checksum = create_checksum(prediction_comparison)"
      ]
    },
    {
      "cell_type": "code",
      "execution_count": null,
      "metadata": {
        "colab": {
          "base_uri": "https://localhost:8080/"
        },
        "id": "ton8fI88fqoY",
        "outputId": "ae4fdf21-007a-4b96-9637-adc90b1beb13"
      },
      "outputs": [
        {
          "name": "stderr",
          "output_type": "stream",
          "text": [
            "2024-03-25 09:19:27,748 - run_model.log - INFO - The predictions were added to the predictions table.\n",
            "INFO:run_model.log:The predictions were added to the predictions table.\n"
          ]
        }
      ],
      "source": [
        "comparison_path = f'{path}/model_comparisons/test-predictions_comparison.tsv'\n",
        "\n",
        "if os.path.isfile(comparison_path):\n",
        "    pred_comp_df = pd.read_csv(comparison_path, sep='\\t')\n",
        "    file_checksum = create_checksum(pred_comp_df)\n",
        "    if file_checksum == pred_checksum:\n",
        "        pred_comp_df[attempt] = predictions\n",
        "        pred_comp_df.to_csv(comparison_path, sep='\\t', index=False)\n",
        "        logger.info(\"The predictions were added to the predictions table.\")\n",
        "    else:\n",
        "        logger.error(\"The checksums for the loaded test data and the predictions table do not match. Maybe the train/test/dev split has changed?\")\n",
        "        raise Exception(\"The checksums for the loaded test data and the predictions table do not match. Maybe the train/test/dev split has changed?\")\n",
        "else:\n",
        "    prediction_comparison.to_csv(comparison_path, sep='\\t', index=False)\n",
        "    logger.info(f\"No predictions table was found at location {comparison_path}, so a new one was created.\")"
      ]
    }
  ],
  "metadata": {
    "accelerator": "GPU",
    "colab": {
      "gpuType": "V100",
      "machine_shape": "hm",
      "provenance": []
    },
    "kernelspec": {
      "display_name": "Python 3",
      "name": "python3"
    },
    "language_info": {
      "name": "python"
    },
    "widgets": {
      "application/vnd.jupyter.widget-state+json": {
        "00bc674708eb43bcac26a43a0fe5f7fc": {
          "model_module": "@jupyter-widgets/base",
          "model_module_version": "1.2.0",
          "model_name": "LayoutModel",
          "state": {
            "_model_module": "@jupyter-widgets/base",
            "_model_module_version": "1.2.0",
            "_model_name": "LayoutModel",
            "_view_count": null,
            "_view_module": "@jupyter-widgets/base",
            "_view_module_version": "1.2.0",
            "_view_name": "LayoutView",
            "align_content": null,
            "align_items": null,
            "align_self": null,
            "border": null,
            "bottom": null,
            "display": null,
            "flex": null,
            "flex_flow": null,
            "grid_area": null,
            "grid_auto_columns": null,
            "grid_auto_flow": null,
            "grid_auto_rows": null,
            "grid_column": null,
            "grid_gap": null,
            "grid_row": null,
            "grid_template_areas": null,
            "grid_template_columns": null,
            "grid_template_rows": null,
            "height": null,
            "justify_content": null,
            "justify_items": null,
            "left": null,
            "margin": null,
            "max_height": null,
            "max_width": null,
            "min_height": null,
            "min_width": null,
            "object_fit": null,
            "object_position": null,
            "order": null,
            "overflow": null,
            "overflow_x": null,
            "overflow_y": null,
            "padding": null,
            "right": null,
            "top": null,
            "visibility": null,
            "width": null
          }
        },
        "404213edf81c456488d2fab58a949f49": {
          "model_module": "@jupyter-widgets/controls",
          "model_module_version": "1.5.0",
          "model_name": "ProgressStyleModel",
          "state": {
            "_model_module": "@jupyter-widgets/controls",
            "_model_module_version": "1.5.0",
            "_model_name": "ProgressStyleModel",
            "_view_count": null,
            "_view_module": "@jupyter-widgets/base",
            "_view_module_version": "1.2.0",
            "_view_name": "StyleView",
            "bar_color": null,
            "description_width": ""
          }
        },
        "8676de0fe0a6444f959e15b9403a5302": {
          "model_module": "@jupyter-widgets/controls",
          "model_module_version": "1.5.0",
          "model_name": "FloatProgressModel",
          "state": {
            "_dom_classes": [],
            "_model_module": "@jupyter-widgets/controls",
            "_model_module_version": "1.5.0",
            "_model_name": "FloatProgressModel",
            "_view_count": null,
            "_view_module": "@jupyter-widgets/controls",
            "_view_module_version": "1.5.0",
            "_view_name": "ProgressView",
            "bar_style": "success",
            "description": "",
            "description_tooltip": null,
            "layout": "IPY_MODEL_988e2cc9e21d4ef6a3ea91c3f3c4a76b",
            "max": 443813549,
            "min": 0,
            "orientation": "horizontal",
            "style": "IPY_MODEL_404213edf81c456488d2fab58a949f49",
            "value": 443813549
          }
        },
        "89418ae86a6344f886829a299f7bda3f": {
          "model_module": "@jupyter-widgets/controls",
          "model_module_version": "1.5.0",
          "model_name": "DescriptionStyleModel",
          "state": {
            "_model_module": "@jupyter-widgets/controls",
            "_model_module_version": "1.5.0",
            "_model_name": "DescriptionStyleModel",
            "_view_count": null,
            "_view_module": "@jupyter-widgets/base",
            "_view_module_version": "1.2.0",
            "_view_name": "StyleView",
            "description_width": ""
          }
        },
        "988e2cc9e21d4ef6a3ea91c3f3c4a76b": {
          "model_module": "@jupyter-widgets/base",
          "model_module_version": "1.2.0",
          "model_name": "LayoutModel",
          "state": {
            "_model_module": "@jupyter-widgets/base",
            "_model_module_version": "1.2.0",
            "_model_name": "LayoutModel",
            "_view_count": null,
            "_view_module": "@jupyter-widgets/base",
            "_view_module_version": "1.2.0",
            "_view_name": "LayoutView",
            "align_content": null,
            "align_items": null,
            "align_self": null,
            "border": null,
            "bottom": null,
            "display": null,
            "flex": null,
            "flex_flow": null,
            "grid_area": null,
            "grid_auto_columns": null,
            "grid_auto_flow": null,
            "grid_auto_rows": null,
            "grid_column": null,
            "grid_gap": null,
            "grid_row": null,
            "grid_template_areas": null,
            "grid_template_columns": null,
            "grid_template_rows": null,
            "height": null,
            "justify_content": null,
            "justify_items": null,
            "left": null,
            "margin": null,
            "max_height": null,
            "max_width": null,
            "min_height": null,
            "min_width": null,
            "object_fit": null,
            "object_position": null,
            "order": null,
            "overflow": null,
            "overflow_x": null,
            "overflow_y": null,
            "padding": null,
            "right": null,
            "top": null,
            "visibility": null,
            "width": null
          }
        },
        "b3205ac2f27b402eb4329af62dbbc9f0": {
          "model_module": "@jupyter-widgets/controls",
          "model_module_version": "1.5.0",
          "model_name": "HTMLModel",
          "state": {
            "_dom_classes": [],
            "_model_module": "@jupyter-widgets/controls",
            "_model_module_version": "1.5.0",
            "_model_name": "HTMLModel",
            "_view_count": null,
            "_view_module": "@jupyter-widgets/controls",
            "_view_module_version": "1.5.0",
            "_view_name": "HTMLView",
            "description": "",
            "description_tooltip": null,
            "layout": "IPY_MODEL_00bc674708eb43bcac26a43a0fe5f7fc",
            "placeholder": "​",
            "style": "IPY_MODEL_b9f0ab2262c74c02ba9439549ede0a03",
            "value": "pytorch_model.bin: 100%"
          }
        },
        "b9f0ab2262c74c02ba9439549ede0a03": {
          "model_module": "@jupyter-widgets/controls",
          "model_module_version": "1.5.0",
          "model_name": "DescriptionStyleModel",
          "state": {
            "_model_module": "@jupyter-widgets/controls",
            "_model_module_version": "1.5.0",
            "_model_name": "DescriptionStyleModel",
            "_view_count": null,
            "_view_module": "@jupyter-widgets/base",
            "_view_module_version": "1.2.0",
            "_view_name": "StyleView",
            "description_width": ""
          }
        },
        "bf813153e1e2474990f49723d67c4130": {
          "model_module": "@jupyter-widgets/controls",
          "model_module_version": "1.5.0",
          "model_name": "HTMLModel",
          "state": {
            "_dom_classes": [],
            "_model_module": "@jupyter-widgets/controls",
            "_model_module_version": "1.5.0",
            "_model_name": "HTMLModel",
            "_view_count": null,
            "_view_module": "@jupyter-widgets/controls",
            "_view_module_version": "1.5.0",
            "_view_name": "HTMLView",
            "description": "",
            "description_tooltip": null,
            "layout": "IPY_MODEL_ce104dfe099846b7a835e712af5093e8",
            "placeholder": "​",
            "style": "IPY_MODEL_89418ae86a6344f886829a299f7bda3f",
            "value": " 444M/444M [00:01&lt;00:00, 323MB/s]"
          }
        },
        "ce104dfe099846b7a835e712af5093e8": {
          "model_module": "@jupyter-widgets/base",
          "model_module_version": "1.2.0",
          "model_name": "LayoutModel",
          "state": {
            "_model_module": "@jupyter-widgets/base",
            "_model_module_version": "1.2.0",
            "_model_name": "LayoutModel",
            "_view_count": null,
            "_view_module": "@jupyter-widgets/base",
            "_view_module_version": "1.2.0",
            "_view_name": "LayoutView",
            "align_content": null,
            "align_items": null,
            "align_self": null,
            "border": null,
            "bottom": null,
            "display": null,
            "flex": null,
            "flex_flow": null,
            "grid_area": null,
            "grid_auto_columns": null,
            "grid_auto_flow": null,
            "grid_auto_rows": null,
            "grid_column": null,
            "grid_gap": null,
            "grid_row": null,
            "grid_template_areas": null,
            "grid_template_columns": null,
            "grid_template_rows": null,
            "height": null,
            "justify_content": null,
            "justify_items": null,
            "left": null,
            "margin": null,
            "max_height": null,
            "max_width": null,
            "min_height": null,
            "min_width": null,
            "object_fit": null,
            "object_position": null,
            "order": null,
            "overflow": null,
            "overflow_x": null,
            "overflow_y": null,
            "padding": null,
            "right": null,
            "top": null,
            "visibility": null,
            "width": null
          }
        },
        "d4d94f1fbe674a8aada1ff8dade444a8": {
          "model_module": "@jupyter-widgets/base",
          "model_module_version": "1.2.0",
          "model_name": "LayoutModel",
          "state": {
            "_model_module": "@jupyter-widgets/base",
            "_model_module_version": "1.2.0",
            "_model_name": "LayoutModel",
            "_view_count": null,
            "_view_module": "@jupyter-widgets/base",
            "_view_module_version": "1.2.0",
            "_view_name": "LayoutView",
            "align_content": null,
            "align_items": null,
            "align_self": null,
            "border": null,
            "bottom": null,
            "display": null,
            "flex": null,
            "flex_flow": null,
            "grid_area": null,
            "grid_auto_columns": null,
            "grid_auto_flow": null,
            "grid_auto_rows": null,
            "grid_column": null,
            "grid_gap": null,
            "grid_row": null,
            "grid_template_areas": null,
            "grid_template_columns": null,
            "grid_template_rows": null,
            "height": null,
            "justify_content": null,
            "justify_items": null,
            "left": null,
            "margin": null,
            "max_height": null,
            "max_width": null,
            "min_height": null,
            "min_width": null,
            "object_fit": null,
            "object_position": null,
            "order": null,
            "overflow": null,
            "overflow_x": null,
            "overflow_y": null,
            "padding": null,
            "right": null,
            "top": null,
            "visibility": null,
            "width": null
          }
        },
        "f222cdefd9384d5fb0714828e98557c2": {
          "model_module": "@jupyter-widgets/controls",
          "model_module_version": "1.5.0",
          "model_name": "HBoxModel",
          "state": {
            "_dom_classes": [],
            "_model_module": "@jupyter-widgets/controls",
            "_model_module_version": "1.5.0",
            "_model_name": "HBoxModel",
            "_view_count": null,
            "_view_module": "@jupyter-widgets/controls",
            "_view_module_version": "1.5.0",
            "_view_name": "HBoxView",
            "box_style": "",
            "children": [
              "IPY_MODEL_b3205ac2f27b402eb4329af62dbbc9f0",
              "IPY_MODEL_8676de0fe0a6444f959e15b9403a5302",
              "IPY_MODEL_bf813153e1e2474990f49723d67c4130"
            ],
            "layout": "IPY_MODEL_d4d94f1fbe674a8aada1ff8dade444a8"
          }
        }
      }
    }
  },
  "nbformat": 4,
  "nbformat_minor": 0
}
