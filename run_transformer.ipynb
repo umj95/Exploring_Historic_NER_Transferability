{
  "cells": [
    {
      "cell_type": "code",
      "execution_count": null,
      "metadata": {},
      "outputs": [],
      "source": [
        "# Based on the following article:\n",
        "# https://medium.com/@lokaregns/named-entity-recognition-with-hugging-face-transformers-a-beginners-guide-e1ac6085fb3c"
      ]
    },
    {
      "cell_type": "code",
      "execution_count": null,
      "metadata": {
        "colab": {
          "base_uri": "https://localhost:8080/"
        },
        "id": "dWeVFzJQd_Li",
        "outputId": "e2108d32-7c7f-4fe9-bb58-9f788d78c5ca"
      },
      "outputs": [
        {
          "name": "stdout",
          "output_type": "stream",
          "text": [
            "Drive already mounted at /content/drive; to attempt to forcibly remount, call drive.mount(\"/content/drive\", force_remount=True).\n"
          ]
        }
      ],
      "source": [
        "from google.colab import drive\n",
        "drive.mount('/content/drive')"
      ]
    },
    {
      "cell_type": "code",
      "execution_count": null,
      "metadata": {
        "id": "0ouWEHj4eAvf"
      },
      "outputs": [],
      "source": [
        "import sys\n",
        "import os\n",
        "\n",
        "path = \"/content/drive/MyDrive/NLP_Project_New\"\n",
        "sys.path.append(os.path.abspath(path))"
      ]
    },
    {
      "cell_type": "code",
      "execution_count": null,
      "metadata": {
        "id": "Zy1hut4qeCYd"
      },
      "outputs": [],
      "source": [
        "import nlp_project_functions as functions\n",
        "\n",
        "from transformers import BertTokenizerFast\n",
        "from transformers import AutoModelForTokenClassification\n",
        "from transformers import pipeline\n",
        "\n",
        "import pandas as pd\n",
        "import math\n",
        "\n",
        "from datetime import datetime\n",
        "import os.path\n",
        "\n",
        "import logging\n",
        "\n",
        "logfile = f\"{path}/logs/run_model.log\"\n",
        "formatter = logging.Formatter('%(asctime)s - %(name)s - %(levelname)s - %(message)s')\n",
        "\n",
        "file_handler = logging.FileHandler(logfile)\n",
        "file_handler.setFormatter(formatter)\n",
        "file_handler.setLevel(logging.INFO)\n",
        "\n",
        "stream_handler = logging.StreamHandler()\n",
        "stream_handler.setFormatter(formatter)\n",
        "stream_handler.setLevel(logging.INFO)\n",
        "\n",
        "logger = logging.getLogger(\"run_model.log\")\n",
        "logger.setLevel(logging.INFO)\n",
        "\n",
        "logger.addHandler(file_handler)\n",
        "logger.addHandler(stream_handler)"
      ]
    },
    {
      "cell_type": "code",
      "execution_count": null,
      "metadata": {
        "colab": {
          "base_uri": "https://localhost:8080/"
        },
        "id": "jOKlptPvnZhR",
        "outputId": "1912eb01-c781-42cc-f097-a51d3cc6b4c2"
      },
      "outputs": [
        {
          "name": "stderr",
          "output_type": "stream",
          "text": [
            "2024-03-24 14:56:59,669 - run_model.log - INFO - Initiated model test. Attempt: dbmdz/bert-base-german-cased--03-24-14-56-59\n",
            "2024-03-24 14:56:59,669 - run_model.log - INFO - Initiated model test. Attempt: dbmdz/bert-base-german-cased--03-24-14-56-59\n",
            "INFO:run_model.log:Initiated model test. Attempt: dbmdz/bert-base-german-cased--03-24-14-56-59\n"
          ]
        }
      ],
      "source": [
        "# get current date, time, and model\n",
        "now = datetime.now()\n",
        "timestamp = now.strftime(\"%m-%d-%H-%M-%S\")\n",
        "day = now.strftime(\"%d-%m\")\n",
        "\n",
        "model_name = \"dbmdz/bert-base-german-cased\"\n",
        "\n",
        "model_checkpoint = model_name\n",
        "attempt = model_name + '--' + timestamp\n",
        "\n",
        "logger.info(f\"Initiated model test. Attempt: {attempt}\")"
      ]
    },
    {
      "cell_type": "code",
      "execution_count": null,
      "metadata": {
        "id": "zyQuBlpxn1B7"
      },
      "outputs": [],
      "source": [
        "def create_checksum(df):\n",
        "    test_string = \"\"\n",
        "    for i in range(5):\n",
        "        if isinstance(df.iloc[i][\"TOKEN\"], str):\n",
        "            test_string += df.iloc[i][\"TOKEN\"]\n",
        "\n",
        "    for i in range(len(df) - 5, len(df)):\n",
        "        if isinstance(df.iloc[i][\"TOKEN\"], str):\n",
        "            test_string += df.iloc[i][\"TOKEN\"]\n",
        "\n",
        "    return test_string"
      ]
    },
    {
      "cell_type": "code",
      "execution_count": null,
      "metadata": {
        "colab": {
          "base_uri": "https://localhost:8080/",
          "height": 106,
          "referenced_widgets": [
            "65b94c64a3004a2797027571ed6d7ccc",
            "bac54b473bc14c6f945d0a1c5c12252d",
            "584170fa4ae648a59049d6010978a3d2",
            "c249405edfe84ee28df2f190bc2f7bab",
            "5135aea10c1149b1b3becd3ba6e93ba1",
            "d77e3d0d1a104e94bf605108934a9970",
            "187e63f338a046fb86bfb94306b21072",
            "4330bb52ea5a4bc9aeec08702ab1eeef",
            "dab48dcb4717494ebea99f5a71fa62db",
            "2e358b1993f04730b2aeb393e9a092de",
            "b1552851013c44c387625a229fd39dc7"
          ]
        },
        "id": "baYCNvNHdqo1",
        "outputId": "de622811-d272-4176-c451-855e31b9ab55"
      },
      "outputs": [],
      "source": [
        "model = AutoModelForTokenClassification.from_pretrained(model_checkpoint)"
      ]
    },
    {
      "cell_type": "code",
      "execution_count": null,
      "metadata": {
        "id": "jTCMEBPgeLKZ"
      },
      "outputs": [],
      "source": [
        "# tokenize\n",
        "tokenizer = BertTokenizerFast.from_pretrained(\"dbmdz/bert-base-german-cased\")"
      ]
    },
    {
      "cell_type": "code",
      "execution_count": null,
      "metadata": {
        "id": "NOGT5rJWeP4P"
      },
      "outputs": [],
      "source": [
        "token_classifier = pipeline(\n",
        "    \"token-classification\", model=model, tokenizer=tokenizer, aggregation_strategy=\"first\"\n",
        ")"
      ]
    },
    {
      "cell_type": "code",
      "execution_count": null,
      "metadata": {
        "id": "Ucxo9drFwsSB"
      },
      "outputs": [],
      "source": [
        "test_texts, test_labels = functions.read_conll_data('/content/drive/MyDrive/NLP_Project_New/data/train_test_val/test.tsv')"
      ]
    },
    {
      "cell_type": "code",
      "execution_count": null,
      "metadata": {
        "id": "FyEGgtf5w-Xg"
      },
      "outputs": [],
      "source": [
        "all_sentences = []\n",
        "\n",
        "for text in test_texts:\n",
        "  sentence = \" \".join(text)\n",
        "  all_sentences.append(sentence)"
      ]
    },
    {
      "cell_type": "code",
      "execution_count": null,
      "metadata": {
        "id": "2ypFyrzreVsO"
      },
      "outputs": [],
      "source": [
        "all_predictions = []\n",
        "for sentence in all_sentences:\n",
        "  prediction = token_classifier(sentence)\n",
        "  all_predictions.append(prediction)"
      ]
    },
    {
      "cell_type": "code",
      "execution_count": null,
      "metadata": {
        "id": "UiVDfSMbAvi4"
      },
      "outputs": [],
      "source": [
        "label_transl = {\"LABEL_0\": \"PER\", \"LABEL_1\": \"LOC\", \"O\": \"O\", \"_\": \"\"}"
      ]
    },
    {
      "cell_type": "code",
      "execution_count": null,
      "metadata": {
        "id": "fx1Xgho4f4bI"
      },
      "outputs": [],
      "source": [
        "tokens = []\n",
        "labels = []\n",
        "predictions = []\n",
        "for text, prediction, labels_list in zip(all_sentences, all_predictions, test_labels):\n",
        "  word_list, prediction_list = functions.list_transformer_results(text, prediction)\n",
        "  tokens.extend(word_list)\n",
        "  tokens.append(\"\")\n",
        "  labels.extend(labels_list)\n",
        "  labels.append(\"\")\n",
        "  predictions.extend(prediction_list)\n",
        "  predictions.append(\"_\")\n",
        "\n",
        "label_vocab = set(predictions)\n",
        "\n",
        "if \"PER\" not in label_vocab:\n",
        "  predictions = [label_transl[item] for item in predictions]\n",
        "else:\n",
        "  predictions = [item.replace('_', '') for item in predictions]\n",
        "\n",
        "\n",
        "predictions = functions.transform_to_BIO(predictions)"
      ]
    },
    {
      "cell_type": "code",
      "execution_count": null,
      "metadata": {
        "id": "gIrcEahLf9A3"
      },
      "outputs": [],
      "source": [
        "prediction_comparison = pd.DataFrame(\n",
        "    {\"TOKEN\": tokens,\n",
        "     \"NER\": labels,\n",
        "     attempt: predictions\n",
        "     })"
      ]
    },
    {
      "cell_type": "code",
      "execution_count": null,
      "metadata": {
        "id": "skPYBJTw1IyB"
      },
      "outputs": [],
      "source": [
        "pred_checksum = create_checksum(prediction_comparison)"
      ]
    },
    {
      "cell_type": "code",
      "execution_count": null,
      "metadata": {
        "colab": {
          "base_uri": "https://localhost:8080/"
        },
        "id": "WjEYnY4y1S09",
        "outputId": "44126e3e-b3c6-4c91-8b4e-4300e06dd823"
      },
      "outputs": [
        {
          "name": "stderr",
          "output_type": "stream",
          "text": [
            "2024-03-24 15:17:51,471 - run_model.log - INFO - The predictions were added to the predictions table.\n",
            "2024-03-24 15:17:51,471 - run_model.log - INFO - The predictions were added to the predictions table.\n",
            "INFO:run_model.log:The predictions were added to the predictions table.\n"
          ]
        }
      ],
      "source": [
        "comparison_path = f'{path}/model_comparisons/test-predictions_comparison.tsv'\n",
        "\n",
        "if os.path.isfile(comparison_path):\n",
        "    pred_comp_df = pd.read_csv(comparison_path, sep='\\t')\n",
        "    file_checksum = create_checksum(pred_comp_df)\n",
        "    if file_checksum == pred_checksum:\n",
        "        pred_comp_df[attempt] = predictions\n",
        "        pred_comp_df.to_csv(comparison_path, sep='\\t', index=False)\n",
        "        logger.info(\"The predictions were added to the predictions table.\")\n",
        "    else:\n",
        "        logger.error(\"The checksums for the loaded test data and the predictions table do not match. Maybe the train/test/dev split has changed?\")\n",
        "        raise Exception(\"The checksums for the loaded test data and the predictions table do not match. Maybe the train/test/dev split has changed?\")\n",
        "else:\n",
        "    prediction_comparison.to_csv(comparison_path, sep='\\t', index=False)\n",
        "    logger.info(f\"No predictions table was found at location {comparison_path}, so a new one was created.\")"
      ]
    }
  ],
  "metadata": {
    "colab": {
      "machine_shape": "hm",
      "provenance": []
    },
    "kernelspec": {
      "display_name": "Python 3",
      "name": "python3"
    },
    "language_info": {
      "name": "python"
    },
    "widgets": {
      "application/vnd.jupyter.widget-state+json": {
        "187e63f338a046fb86bfb94306b21072": {
          "model_module": "@jupyter-widgets/controls",
          "model_module_version": "1.5.0",
          "model_name": "DescriptionStyleModel",
          "state": {
            "_model_module": "@jupyter-widgets/controls",
            "_model_module_version": "1.5.0",
            "_model_name": "DescriptionStyleModel",
            "_view_count": null,
            "_view_module": "@jupyter-widgets/base",
            "_view_module_version": "1.2.0",
            "_view_name": "StyleView",
            "description_width": ""
          }
        },
        "2e358b1993f04730b2aeb393e9a092de": {
          "model_module": "@jupyter-widgets/base",
          "model_module_version": "1.2.0",
          "model_name": "LayoutModel",
          "state": {
            "_model_module": "@jupyter-widgets/base",
            "_model_module_version": "1.2.0",
            "_model_name": "LayoutModel",
            "_view_count": null,
            "_view_module": "@jupyter-widgets/base",
            "_view_module_version": "1.2.0",
            "_view_name": "LayoutView",
            "align_content": null,
            "align_items": null,
            "align_self": null,
            "border": null,
            "bottom": null,
            "display": null,
            "flex": null,
            "flex_flow": null,
            "grid_area": null,
            "grid_auto_columns": null,
            "grid_auto_flow": null,
            "grid_auto_rows": null,
            "grid_column": null,
            "grid_gap": null,
            "grid_row": null,
            "grid_template_areas": null,
            "grid_template_columns": null,
            "grid_template_rows": null,
            "height": null,
            "justify_content": null,
            "justify_items": null,
            "left": null,
            "margin": null,
            "max_height": null,
            "max_width": null,
            "min_height": null,
            "min_width": null,
            "object_fit": null,
            "object_position": null,
            "order": null,
            "overflow": null,
            "overflow_x": null,
            "overflow_y": null,
            "padding": null,
            "right": null,
            "top": null,
            "visibility": null,
            "width": null
          }
        },
        "4330bb52ea5a4bc9aeec08702ab1eeef": {
          "model_module": "@jupyter-widgets/base",
          "model_module_version": "1.2.0",
          "model_name": "LayoutModel",
          "state": {
            "_model_module": "@jupyter-widgets/base",
            "_model_module_version": "1.2.0",
            "_model_name": "LayoutModel",
            "_view_count": null,
            "_view_module": "@jupyter-widgets/base",
            "_view_module_version": "1.2.0",
            "_view_name": "LayoutView",
            "align_content": null,
            "align_items": null,
            "align_self": null,
            "border": null,
            "bottom": null,
            "display": null,
            "flex": null,
            "flex_flow": null,
            "grid_area": null,
            "grid_auto_columns": null,
            "grid_auto_flow": null,
            "grid_auto_rows": null,
            "grid_column": null,
            "grid_gap": null,
            "grid_row": null,
            "grid_template_areas": null,
            "grid_template_columns": null,
            "grid_template_rows": null,
            "height": null,
            "justify_content": null,
            "justify_items": null,
            "left": null,
            "margin": null,
            "max_height": null,
            "max_width": null,
            "min_height": null,
            "min_width": null,
            "object_fit": null,
            "object_position": null,
            "order": null,
            "overflow": null,
            "overflow_x": null,
            "overflow_y": null,
            "padding": null,
            "right": null,
            "top": null,
            "visibility": null,
            "width": null
          }
        },
        "5135aea10c1149b1b3becd3ba6e93ba1": {
          "model_module": "@jupyter-widgets/base",
          "model_module_version": "1.2.0",
          "model_name": "LayoutModel",
          "state": {
            "_model_module": "@jupyter-widgets/base",
            "_model_module_version": "1.2.0",
            "_model_name": "LayoutModel",
            "_view_count": null,
            "_view_module": "@jupyter-widgets/base",
            "_view_module_version": "1.2.0",
            "_view_name": "LayoutView",
            "align_content": null,
            "align_items": null,
            "align_self": null,
            "border": null,
            "bottom": null,
            "display": null,
            "flex": null,
            "flex_flow": null,
            "grid_area": null,
            "grid_auto_columns": null,
            "grid_auto_flow": null,
            "grid_auto_rows": null,
            "grid_column": null,
            "grid_gap": null,
            "grid_row": null,
            "grid_template_areas": null,
            "grid_template_columns": null,
            "grid_template_rows": null,
            "height": null,
            "justify_content": null,
            "justify_items": null,
            "left": null,
            "margin": null,
            "max_height": null,
            "max_width": null,
            "min_height": null,
            "min_width": null,
            "object_fit": null,
            "object_position": null,
            "order": null,
            "overflow": null,
            "overflow_x": null,
            "overflow_y": null,
            "padding": null,
            "right": null,
            "top": null,
            "visibility": null,
            "width": null
          }
        },
        "584170fa4ae648a59049d6010978a3d2": {
          "model_module": "@jupyter-widgets/controls",
          "model_module_version": "1.5.0",
          "model_name": "FloatProgressModel",
          "state": {
            "_dom_classes": [],
            "_model_module": "@jupyter-widgets/controls",
            "_model_module_version": "1.5.0",
            "_model_name": "FloatProgressModel",
            "_view_count": null,
            "_view_module": "@jupyter-widgets/controls",
            "_view_module_version": "1.5.0",
            "_view_name": "ProgressView",
            "bar_style": "success",
            "description": "",
            "description_tooltip": null,
            "layout": "IPY_MODEL_4330bb52ea5a4bc9aeec08702ab1eeef",
            "max": 442227532,
            "min": 0,
            "orientation": "horizontal",
            "style": "IPY_MODEL_dab48dcb4717494ebea99f5a71fa62db",
            "value": 442227532
          }
        },
        "65b94c64a3004a2797027571ed6d7ccc": {
          "model_module": "@jupyter-widgets/controls",
          "model_module_version": "1.5.0",
          "model_name": "HBoxModel",
          "state": {
            "_dom_classes": [],
            "_model_module": "@jupyter-widgets/controls",
            "_model_module_version": "1.5.0",
            "_model_name": "HBoxModel",
            "_view_count": null,
            "_view_module": "@jupyter-widgets/controls",
            "_view_module_version": "1.5.0",
            "_view_name": "HBoxView",
            "box_style": "",
            "children": [
              "IPY_MODEL_bac54b473bc14c6f945d0a1c5c12252d",
              "IPY_MODEL_584170fa4ae648a59049d6010978a3d2",
              "IPY_MODEL_c249405edfe84ee28df2f190bc2f7bab"
            ],
            "layout": "IPY_MODEL_5135aea10c1149b1b3becd3ba6e93ba1"
          }
        },
        "b1552851013c44c387625a229fd39dc7": {
          "model_module": "@jupyter-widgets/controls",
          "model_module_version": "1.5.0",
          "model_name": "DescriptionStyleModel",
          "state": {
            "_model_module": "@jupyter-widgets/controls",
            "_model_module_version": "1.5.0",
            "_model_name": "DescriptionStyleModel",
            "_view_count": null,
            "_view_module": "@jupyter-widgets/base",
            "_view_module_version": "1.2.0",
            "_view_name": "StyleView",
            "description_width": ""
          }
        },
        "bac54b473bc14c6f945d0a1c5c12252d": {
          "model_module": "@jupyter-widgets/controls",
          "model_module_version": "1.5.0",
          "model_name": "HTMLModel",
          "state": {
            "_dom_classes": [],
            "_model_module": "@jupyter-widgets/controls",
            "_model_module_version": "1.5.0",
            "_model_name": "HTMLModel",
            "_view_count": null,
            "_view_module": "@jupyter-widgets/controls",
            "_view_module_version": "1.5.0",
            "_view_name": "HTMLView",
            "description": "",
            "description_tooltip": null,
            "layout": "IPY_MODEL_d77e3d0d1a104e94bf605108934a9970",
            "placeholder": "​",
            "style": "IPY_MODEL_187e63f338a046fb86bfb94306b21072",
            "value": "model.safetensors: 100%"
          }
        },
        "c249405edfe84ee28df2f190bc2f7bab": {
          "model_module": "@jupyter-widgets/controls",
          "model_module_version": "1.5.0",
          "model_name": "HTMLModel",
          "state": {
            "_dom_classes": [],
            "_model_module": "@jupyter-widgets/controls",
            "_model_module_version": "1.5.0",
            "_model_name": "HTMLModel",
            "_view_count": null,
            "_view_module": "@jupyter-widgets/controls",
            "_view_module_version": "1.5.0",
            "_view_name": "HTMLView",
            "description": "",
            "description_tooltip": null,
            "layout": "IPY_MODEL_2e358b1993f04730b2aeb393e9a092de",
            "placeholder": "​",
            "style": "IPY_MODEL_b1552851013c44c387625a229fd39dc7",
            "value": " 442M/442M [00:05&lt;00:00, 92.3MB/s]"
          }
        },
        "d77e3d0d1a104e94bf605108934a9970": {
          "model_module": "@jupyter-widgets/base",
          "model_module_version": "1.2.0",
          "model_name": "LayoutModel",
          "state": {
            "_model_module": "@jupyter-widgets/base",
            "_model_module_version": "1.2.0",
            "_model_name": "LayoutModel",
            "_view_count": null,
            "_view_module": "@jupyter-widgets/base",
            "_view_module_version": "1.2.0",
            "_view_name": "LayoutView",
            "align_content": null,
            "align_items": null,
            "align_self": null,
            "border": null,
            "bottom": null,
            "display": null,
            "flex": null,
            "flex_flow": null,
            "grid_area": null,
            "grid_auto_columns": null,
            "grid_auto_flow": null,
            "grid_auto_rows": null,
            "grid_column": null,
            "grid_gap": null,
            "grid_row": null,
            "grid_template_areas": null,
            "grid_template_columns": null,
            "grid_template_rows": null,
            "height": null,
            "justify_content": null,
            "justify_items": null,
            "left": null,
            "margin": null,
            "max_height": null,
            "max_width": null,
            "min_height": null,
            "min_width": null,
            "object_fit": null,
            "object_position": null,
            "order": null,
            "overflow": null,
            "overflow_x": null,
            "overflow_y": null,
            "padding": null,
            "right": null,
            "top": null,
            "visibility": null,
            "width": null
          }
        },
        "dab48dcb4717494ebea99f5a71fa62db": {
          "model_module": "@jupyter-widgets/controls",
          "model_module_version": "1.5.0",
          "model_name": "ProgressStyleModel",
          "state": {
            "_model_module": "@jupyter-widgets/controls",
            "_model_module_version": "1.5.0",
            "_model_name": "ProgressStyleModel",
            "_view_count": null,
            "_view_module": "@jupyter-widgets/base",
            "_view_module_version": "1.2.0",
            "_view_name": "StyleView",
            "bar_color": null,
            "description_width": ""
          }
        }
      }
    }
  },
  "nbformat": 4,
  "nbformat_minor": 0
}
